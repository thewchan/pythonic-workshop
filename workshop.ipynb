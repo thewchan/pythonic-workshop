{
 "cells": [
  {
   "cell_type": "markdown",
   "metadata": {},
   "source": [
    "# Pythonic Code Writing"
   ]
  },
  {
   "cell_type": "markdown",
   "metadata": {},
   "source": [
    "## What does it mean for code to be \"Pythonic\"?\n",
    "\n",
    "This is a rather subjective idea, but we can look to PEP20 or the \"Zen of Python\" to get some benchmarks:"
   ]
  },
  {
   "cell_type": "code",
   "execution_count": 1,
   "metadata": {
    "execution": {
     "iopub.execute_input": "2020-11-19T21:12:06.413469Z",
     "iopub.status.busy": "2020-11-19T21:12:06.372469Z",
     "iopub.status.idle": "2020-11-19T21:12:06.578469Z",
     "shell.execute_reply": "2020-11-19T21:12:06.575469Z",
     "shell.execute_reply.started": "2020-11-19T21:12:06.411473Z"
    }
   },
   "outputs": [
    {
     "name": "stdout",
     "output_type": "stream",
     "text": [
      "The Zen of Python, by Tim Peters\n",
      "\n",
      "Beautiful is better than ugly.\n",
      "Explicit is better than implicit.\n",
      "Simple is better than complex.\n",
      "Complex is better than complicated.\n",
      "Flat is better than nested.\n",
      "Sparse is better than dense.\n",
      "Readability counts.\n",
      "Special cases aren't special enough to break the rules.\n",
      "Although practicality beats purity.\n",
      "Errors should never pass silently.\n",
      "Unless explicitly silenced.\n",
      "In the face of ambiguity, refuse the temptation to guess.\n",
      "There should be one-- and preferably only one --obvious way to do it.\n",
      "Although that way may not be obvious at first unless you're Dutch.\n",
      "Now is better than never.\n",
      "Although never is often better than *right* now.\n",
      "If the implementation is hard to explain, it's a bad idea.\n",
      "If the implementation is easy to explain, it may be a good idea.\n",
      "Namespaces are one honking great idea -- let's do more of those!\n"
     ]
    }
   ],
   "source": [
    "import this"
   ]
  },
  {
   "cell_type": "markdown",
   "metadata": {},
   "source": [
    "While helpful, the Zen is rather subjective, and some of its tenets conflicts each other at times. I have grouped some of these principles into three main ideas:\n",
    "\n",
    "- Utilizing built-in Python mechanics\n",
    "- Value consistency and readability\n",
    "- Avoid over committing to one programming paradigm"
   ]
  },
  {
   "cell_type": "markdown",
   "metadata": {},
   "source": [
    "## Utilizing built-in Python mechanics\n",
    "\n",
    "> \"Flat is better than nested.\"</br>\n",
    "> \"Sparse is better than dense.\"</br>\n",
    "> \"Errors should never pass silently.\"</br>\n",
    "> \"There should be one-- and preferably only one --obvious way to do it.\"</br>"
   ]
  },
  {
   "cell_type": "markdown",
   "metadata": {},
   "source": [
    "There are many programming practices that are similar or even identical across multiple programming languages. For example, a for loop in C conceptually is pretty much the same as a for loop in Python; the syntax is a bit different but not even that much. However, Python itself has quite a few relatively unique features that often provide ease of writing, reading, and even speed."
   ]
  },
  {
   "cell_type": "markdown",
   "metadata": {},
   "source": [
    "### Comprehensions\n",
    "\n",
    "Python isn't the first language to implement list comprehensions, but it's certainly one of the first main stream programming language to embrace it. List comprehension ostensibly is a way to create list (or other array-likes) in a succinct way. The syntax is:\n",
    "\n",
    "```\n",
    "[statement/expression for member in iterable (if conditional)]\n",
    "```\n",
    "\n",
    "Here is a very simple list of incrementing integers created this way:"
   ]
  },
  {
   "cell_type": "code",
   "execution_count": 2,
   "metadata": {
    "execution": {
     "iopub.execute_input": "2020-11-19T21:17:20.439551Z",
     "iopub.status.busy": "2020-11-19T21:17:20.438553Z",
     "iopub.status.idle": "2020-11-19T21:17:20.551550Z",
     "shell.execute_reply": "2020-11-19T21:17:20.548549Z",
     "shell.execute_reply.started": "2020-11-19T21:17:20.439551Z"
    }
   },
   "outputs": [
    {
     "data": {
      "text/plain": [
       "[0, 1, 2, 3, 4, 5, 6, 7, 8, 9, 10]"
      ]
     },
     "execution_count": 2,
     "metadata": {},
     "output_type": "execute_result"
    }
   ],
   "source": [
    "[x for x in range(11)]"
   ]
  },
  {
   "cell_type": "markdown",
   "metadata": {},
   "source": [
    "Note that if you can writing something in a list comprehension, you can write it in a for-loop (the reverse is not necessarily true.)"
   ]
  },
  {
   "cell_type": "code",
   "execution_count": 3,
   "metadata": {
    "execution": {
     "iopub.execute_input": "2020-11-19T21:17:43.050193Z",
     "iopub.status.busy": "2020-11-19T21:17:43.050193Z",
     "iopub.status.idle": "2020-11-19T21:17:43.087202Z",
     "shell.execute_reply": "2020-11-19T21:17:43.083192Z",
     "shell.execute_reply.started": "2020-11-19T21:17:43.050193Z"
    }
   },
   "outputs": [
    {
     "data": {
      "text/plain": [
       "[0, 1, 2, 3, 4, 5, 6, 7, 8, 9, 10]"
      ]
     },
     "execution_count": 3,
     "metadata": {},
     "output_type": "execute_result"
    }
   ],
   "source": [
    "lst = []\n",
    "for num in range(11):\n",
    "    lst.append(num)\n",
    "\n",
    "lst"
   ]
  },
  {
   "cell_type": "markdown",
   "metadata": {},
   "source": [
    "The `statement/expression` component of a list comprehension can be much more complex:"
   ]
  },
  {
   "cell_type": "code",
   "execution_count": 4,
   "metadata": {
    "execution": {
     "iopub.execute_input": "2020-11-19T21:19:05.643020Z",
     "iopub.status.busy": "2020-11-19T21:19:05.643020Z",
     "iopub.status.idle": "2020-11-19T21:19:05.657020Z",
     "shell.execute_reply": "2020-11-19T21:19:05.656020Z",
     "shell.execute_reply.started": "2020-11-19T21:19:05.643020Z"
    }
   },
   "outputs": [
    {
     "data": {
      "text/plain": [
       "[0, 1, 10, 11, 100, 101, 110, 111, 1000, 1001, 1010]"
      ]
     },
     "execution_count": 4,
     "metadata": {},
     "output_type": "execute_result"
    }
   ],
   "source": [
    "[int(bin(x).split('b')[1]) for x in range(11)]"
   ]
  },
  {
   "cell_type": "markdown",
   "metadata": {},
   "source": [
    "Remember that anything enclosed in Python can be broken to multiple lines, so we can make the former more \"readable\" by:"
   ]
  },
  {
   "cell_type": "code",
   "execution_count": 5,
   "metadata": {
    "execution": {
     "iopub.execute_input": "2020-11-19T21:19:34.061768Z",
     "iopub.status.busy": "2020-11-19T21:19:34.060768Z",
     "iopub.status.idle": "2020-11-19T21:19:34.073770Z",
     "shell.execute_reply": "2020-11-19T21:19:34.071767Z",
     "shell.execute_reply.started": "2020-11-19T21:19:34.061768Z"
    }
   },
   "outputs": [
    {
     "data": {
      "text/plain": [
       "[0, 1, 10, 11, 100, 101, 110, 111, 1000, 1001, 1010]"
      ]
     },
     "execution_count": 5,
     "metadata": {},
     "output_type": "execute_result"
    }
   ],
   "source": [
    "[int(\n",
    "    bin(x)\n",
    "         .split('b')[1])\n",
    " for x\n",
    " in range(11)]"
   ]
  },
  {
   "cell_type": "markdown",
   "metadata": {},
   "source": [
    "Or better yet:"
   ]
  },
  {
   "cell_type": "code",
   "execution_count": 6,
   "metadata": {
    "execution": {
     "iopub.execute_input": "2020-11-19T21:19:48.899083Z",
     "iopub.status.busy": "2020-11-19T21:19:48.898068Z",
     "iopub.status.idle": "2020-11-19T21:19:48.927065Z",
     "shell.execute_reply": "2020-11-19T21:19:48.923065Z",
     "shell.execute_reply.started": "2020-11-19T21:19:48.899083Z"
    }
   },
   "outputs": [
    {
     "data": {
      "text/plain": [
       "[0, 1, 10, 11, 100, 101, 110, 111, 1000, 1001, 1010]"
      ]
     },
     "execution_count": 6,
     "metadata": {},
     "output_type": "execute_result"
    }
   ],
   "source": [
    "def binarize(base10num):\n",
    "    binary_str = bin(base10num).split('b')[1]\n",
    "    \n",
    "    return int(binary_str)\n",
    "\n",
    "[binarize(x) for x in range(11)]"
   ]
  },
  {
   "cell_type": "markdown",
   "metadata": {
    "execution": {
     "iopub.execute_input": "2020-11-19T01:00:32.629144Z",
     "iopub.status.busy": "2020-11-19T01:00:32.629144Z",
     "iopub.status.idle": "2020-11-19T01:00:32.655132Z",
     "shell.execute_reply": "2020-11-19T01:00:32.653135Z",
     "shell.execute_reply.started": "2020-11-19T01:00:32.629144Z"
    }
   },
   "source": [
    "As we will see later, comprehensions are great replacements for `.map()`, `filter()`, and `reduce()` methods:"
   ]
  },
  {
   "cell_type": "code",
   "execution_count": 7,
   "metadata": {
    "execution": {
     "iopub.execute_input": "2020-11-19T21:21:15.020297Z",
     "iopub.status.busy": "2020-11-19T21:21:15.020297Z",
     "iopub.status.idle": "2020-11-19T21:21:15.064297Z",
     "shell.execute_reply": "2020-11-19T21:21:15.061301Z",
     "shell.execute_reply.started": "2020-11-19T21:21:15.020297Z"
    }
   },
   "outputs": [
    {
     "data": {
      "text/plain": [
       "[25,\n",
       " 9,\n",
       " 49,\n",
       " 80,\n",
       " 100,\n",
       " 76,\n",
       " 93,\n",
       " 6,\n",
       " 25,\n",
       " 27,\n",
       " 72,\n",
       " 50,\n",
       " 38,\n",
       " 53,\n",
       " 15,\n",
       " 13,\n",
       " 23,\n",
       " 15,\n",
       " 3,\n",
       " 65,\n",
       " 50,\n",
       " 5,\n",
       " 55,\n",
       " 6,\n",
       " 41,\n",
       " 1,\n",
       " 55,\n",
       " 82,\n",
       " 39,\n",
       " 51,\n",
       " 78,\n",
       " 79,\n",
       " 15,\n",
       " 32,\n",
       " 42,\n",
       " 84,\n",
       " 83,\n",
       " 94,\n",
       " 64,\n",
       " 55,\n",
       " 50,\n",
       " 93,\n",
       " 77,\n",
       " 95,\n",
       " 44,\n",
       " 48,\n",
       " 44,\n",
       " 3,\n",
       " 16,\n",
       " 21,\n",
       " 66,\n",
       " 5,\n",
       " 67,\n",
       " 17,\n",
       " 45,\n",
       " 20,\n",
       " 36,\n",
       " 33,\n",
       " 62,\n",
       " 67,\n",
       " 97,\n",
       " 55,\n",
       " 52,\n",
       " 14,\n",
       " 7,\n",
       " 20,\n",
       " 55,\n",
       " 16,\n",
       " 57,\n",
       " 69,\n",
       " 63,\n",
       " 56,\n",
       " 49,\n",
       " 48,\n",
       " 87,\n",
       " 93,\n",
       " 69,\n",
       " 49,\n",
       " 20,\n",
       " 74,\n",
       " 97,\n",
       " 31,\n",
       " 97,\n",
       " 89,\n",
       " 57,\n",
       " 12,\n",
       " 83,\n",
       " 4,\n",
       " 89,\n",
       " 76,\n",
       " 33,\n",
       " 1,\n",
       " 41,\n",
       " 7,\n",
       " 71,\n",
       " 33,\n",
       " 39,\n",
       " 17,\n",
       " 83,\n",
       " 92]"
      ]
     },
     "execution_count": 7,
     "metadata": {},
     "output_type": "execute_result"
    }
   ],
   "source": [
    "from random import randint\n",
    "\n",
    "random_list = [randint(1, 100) for i in range(100)]\n",
    "random_list"
   ]
  },
  {
   "cell_type": "code",
   "execution_count": 8,
   "metadata": {
    "execution": {
     "iopub.execute_input": "2020-11-19T21:21:49.935465Z",
     "iopub.status.busy": "2020-11-19T21:21:49.935465Z",
     "iopub.status.idle": "2020-11-19T21:21:49.961466Z",
     "shell.execute_reply": "2020-11-19T21:21:49.959467Z",
     "shell.execute_reply.started": "2020-11-19T21:21:49.935465Z"
    }
   },
   "outputs": [
    {
     "name": "stdout",
     "output_type": "stream",
     "text": [
      "49 is divisible by 7.\n",
      "42 is divisible by 7.\n",
      "84 is divisible by 7.\n",
      "77 is divisible by 7.\n",
      "21 is divisible by 7.\n",
      "14 is divisible by 7.\n",
      "7 is divisible by 7.\n",
      "63 is divisible by 7.\n",
      "56 is divisible by 7.\n",
      "49 is divisible by 7.\n",
      "49 is divisible by 7.\n",
      "7 is divisible by 7.\n"
     ]
    },
    {
     "data": {
      "text/plain": [
       "[None, None, None, None, None, None, None, None, None, None, None, None]"
      ]
     },
     "execution_count": 8,
     "metadata": {},
     "output_type": "execute_result"
    }
   ],
   "source": [
    "[print(f'{num} is divisible by 7.')\n",
    " for num\n",
    " in random_list\n",
    " if num % 7 == 0]"
   ]
  },
  {
   "cell_type": "markdown",
   "metadata": {},
   "source": [
    "In this above cell, we also demonstrated that you don't necessarily have to put an expression in a list comprehension; you can put a statement in there, and it will run like a for loop. Python will still make you a list of nulls, but that's okay because Python has pretty robust garbage collection.\n",
    "\n",
    "Almost all Python base collection has its own version of comprehensions:"
   ]
  },
  {
   "cell_type": "code",
   "execution_count": 9,
   "metadata": {
    "execution": {
     "iopub.execute_input": "2020-11-19T21:22:52.798756Z",
     "iopub.status.busy": "2020-11-19T21:22:52.798756Z",
     "iopub.status.idle": "2020-11-19T21:22:52.810759Z",
     "shell.execute_reply": "2020-11-19T21:22:52.808754Z",
     "shell.execute_reply.started": "2020-11-19T21:22:52.798756Z"
    }
   },
   "outputs": [
    {
     "data": {
      "text/plain": [
       "{7, 14, 21, 42, 49, 56, 63, 77, 84}"
      ]
     },
     "execution_count": 9,
     "metadata": {},
     "output_type": "execute_result"
    }
   ],
   "source": [
    "# sets:\n",
    "\n",
    "{x for x in random_list if x % 7 == 0}"
   ]
  },
  {
   "cell_type": "code",
   "execution_count": 10,
   "metadata": {
    "execution": {
     "iopub.execute_input": "2020-11-19T21:24:01.756564Z",
     "iopub.status.busy": "2020-11-19T21:24:01.756564Z",
     "iopub.status.idle": "2020-11-19T21:24:01.790562Z",
     "shell.execute_reply": "2020-11-19T21:24:01.789561Z",
     "shell.execute_reply.started": "2020-11-19T21:24:01.756564Z"
    }
   },
   "outputs": [
    {
     "data": {
      "text/plain": [
       "[(25, '\\x19'),\n",
       " (9, '\\t'),\n",
       " (49, '1'),\n",
       " (80, 'P'),\n",
       " (100, 'd'),\n",
       " (76, 'L'),\n",
       " (93, ']'),\n",
       " (6, '\\x06'),\n",
       " (25, '\\x19'),\n",
       " (27, '\\x1b'),\n",
       " (72, 'H'),\n",
       " (50, '2'),\n",
       " (38, '&'),\n",
       " (53, '5'),\n",
       " (15, '\\x0f'),\n",
       " (13, '\\r'),\n",
       " (23, '\\x17'),\n",
       " (15, '\\x0f'),\n",
       " (3, '\\x03'),\n",
       " (65, 'A'),\n",
       " (50, '2'),\n",
       " (5, '\\x05'),\n",
       " (55, '7'),\n",
       " (6, '\\x06'),\n",
       " (41, ')'),\n",
       " (1, '\\x01'),\n",
       " (55, '7'),\n",
       " (82, 'R'),\n",
       " (39, \"'\"),\n",
       " (51, '3'),\n",
       " (78, 'N'),\n",
       " (79, 'O'),\n",
       " (15, '\\x0f'),\n",
       " (32, ' '),\n",
       " (42, '*'),\n",
       " (84, 'T'),\n",
       " (83, 'S'),\n",
       " (94, '^'),\n",
       " (64, '@'),\n",
       " (55, '7'),\n",
       " (50, '2'),\n",
       " (93, ']'),\n",
       " (77, 'M'),\n",
       " (95, '_'),\n",
       " (44, ','),\n",
       " (48, '0'),\n",
       " (44, ','),\n",
       " (3, '\\x03'),\n",
       " (16, '\\x10'),\n",
       " (21, '\\x15'),\n",
       " (66, 'B'),\n",
       " (5, '\\x05'),\n",
       " (67, 'C'),\n",
       " (17, '\\x11'),\n",
       " (45, '-'),\n",
       " (20, '\\x14'),\n",
       " (36, '$'),\n",
       " (33, '!'),\n",
       " (62, '>'),\n",
       " (67, 'C'),\n",
       " (97, 'a'),\n",
       " (55, '7'),\n",
       " (52, '4'),\n",
       " (14, '\\x0e'),\n",
       " (7, '\\x07'),\n",
       " (20, '\\x14'),\n",
       " (55, '7'),\n",
       " (16, '\\x10'),\n",
       " (57, '9'),\n",
       " (69, 'E'),\n",
       " (63, '?'),\n",
       " (56, '8'),\n",
       " (49, '1'),\n",
       " (48, '0'),\n",
       " (87, 'W'),\n",
       " (93, ']'),\n",
       " (69, 'E'),\n",
       " (49, '1'),\n",
       " (20, '\\x14'),\n",
       " (74, 'J'),\n",
       " (97, 'a'),\n",
       " (31, '\\x1f'),\n",
       " (97, 'a'),\n",
       " (89, 'Y'),\n",
       " (57, '9'),\n",
       " (12, '\\x0c'),\n",
       " (83, 'S'),\n",
       " (4, '\\x04'),\n",
       " (89, 'Y'),\n",
       " (76, 'L'),\n",
       " (33, '!'),\n",
       " (1, '\\x01'),\n",
       " (41, ')'),\n",
       " (7, '\\x07'),\n",
       " (71, 'G'),\n",
       " (33, '!'),\n",
       " (39, \"'\"),\n",
       " (17, '\\x11'),\n",
       " (83, 'S'),\n",
       " (92, '\\\\')]"
      ]
     },
     "execution_count": 10,
     "metadata": {},
     "output_type": "execute_result"
    }
   ],
   "source": [
    "# Dictionary:\n",
    "list_of_tuples = [(num, chr(num)) for (num) in random_list]\n",
    "list_of_tuples"
   ]
  },
  {
   "cell_type": "code",
   "execution_count": 11,
   "metadata": {
    "execution": {
     "iopub.execute_input": "2020-11-19T21:27:10.187346Z",
     "iopub.status.busy": "2020-11-19T21:27:10.187346Z",
     "iopub.status.idle": "2020-11-19T21:27:10.224346Z",
     "shell.execute_reply": "2020-11-19T21:27:10.223346Z",
     "shell.execute_reply.started": "2020-11-19T21:27:10.187346Z"
    }
   },
   "outputs": [
    {
     "data": {
      "text/plain": [
       "{25: '\\x19',\n",
       " 9: '\\t',\n",
       " 49: '1',\n",
       " 80: 'P',\n",
       " 100: 'd',\n",
       " 76: 'L',\n",
       " 93: ']',\n",
       " 6: '\\x06',\n",
       " 27: '\\x1b',\n",
       " 72: 'H',\n",
       " 50: '2',\n",
       " 38: '&',\n",
       " 53: '5',\n",
       " 15: '\\x0f',\n",
       " 13: '\\r',\n",
       " 23: '\\x17',\n",
       " 3: '\\x03',\n",
       " 65: 'A',\n",
       " 5: '\\x05',\n",
       " 55: '7',\n",
       " 41: ')',\n",
       " 1: '\\x01',\n",
       " 82: 'R',\n",
       " 39: \"'\",\n",
       " 51: '3',\n",
       " 78: 'N',\n",
       " 79: 'O',\n",
       " 32: ' ',\n",
       " 42: '*',\n",
       " 84: 'T',\n",
       " 83: 'S',\n",
       " 94: '^',\n",
       " 64: '@',\n",
       " 77: 'M',\n",
       " 95: '_',\n",
       " 44: ',',\n",
       " 48: '0',\n",
       " 16: '\\x10',\n",
       " 21: '\\x15',\n",
       " 66: 'B',\n",
       " 67: 'C',\n",
       " 17: '\\x11',\n",
       " 45: '-',\n",
       " 20: '\\x14',\n",
       " 36: '$',\n",
       " 33: '!',\n",
       " 62: '>',\n",
       " 97: 'a',\n",
       " 52: '4',\n",
       " 14: '\\x0e',\n",
       " 7: '\\x07',\n",
       " 57: '9',\n",
       " 69: 'E',\n",
       " 63: '?',\n",
       " 56: '8',\n",
       " 87: 'W',\n",
       " 74: 'J',\n",
       " 31: '\\x1f',\n",
       " 89: 'Y',\n",
       " 12: '\\x0c',\n",
       " 4: '\\x04',\n",
       " 71: 'G',\n",
       " 92: '\\\\'}"
      ]
     },
     "execution_count": 11,
     "metadata": {},
     "output_type": "execute_result"
    }
   ],
   "source": [
    "{idx: value for (idx, value) in list_of_tuples}"
   ]
  },
  {
   "cell_type": "markdown",
   "metadata": {},
   "source": [
    "The above is equivalent to:"
   ]
  },
  {
   "cell_type": "code",
   "execution_count": 12,
   "metadata": {
    "execution": {
     "iopub.execute_input": "2020-11-19T21:28:12.920817Z",
     "iopub.status.busy": "2020-11-19T21:28:12.919828Z",
     "iopub.status.idle": "2020-11-19T21:28:12.954837Z",
     "shell.execute_reply": "2020-11-19T21:28:12.952817Z",
     "shell.execute_reply.started": "2020-11-19T21:28:12.920817Z"
    }
   },
   "outputs": [
    {
     "data": {
      "text/plain": [
       "{25: '\\x19',\n",
       " 9: '\\t',\n",
       " 49: '1',\n",
       " 80: 'P',\n",
       " 100: 'd',\n",
       " 76: 'L',\n",
       " 93: ']',\n",
       " 6: '\\x06',\n",
       " 27: '\\x1b',\n",
       " 72: 'H',\n",
       " 50: '2',\n",
       " 38: '&',\n",
       " 53: '5',\n",
       " 15: '\\x0f',\n",
       " 13: '\\r',\n",
       " 23: '\\x17',\n",
       " 3: '\\x03',\n",
       " 65: 'A',\n",
       " 5: '\\x05',\n",
       " 55: '7',\n",
       " 41: ')',\n",
       " 1: '\\x01',\n",
       " 82: 'R',\n",
       " 39: \"'\",\n",
       " 51: '3',\n",
       " 78: 'N',\n",
       " 79: 'O',\n",
       " 32: ' ',\n",
       " 42: '*',\n",
       " 84: 'T',\n",
       " 83: 'S',\n",
       " 94: '^',\n",
       " 64: '@',\n",
       " 77: 'M',\n",
       " 95: '_',\n",
       " 44: ',',\n",
       " 48: '0',\n",
       " 16: '\\x10',\n",
       " 21: '\\x15',\n",
       " 66: 'B',\n",
       " 67: 'C',\n",
       " 17: '\\x11',\n",
       " 45: '-',\n",
       " 20: '\\x14',\n",
       " 36: '$',\n",
       " 33: '!',\n",
       " 62: '>',\n",
       " 97: 'a',\n",
       " 52: '4',\n",
       " 14: '\\x0e',\n",
       " 7: '\\x07',\n",
       " 57: '9',\n",
       " 69: 'E',\n",
       " 63: '?',\n",
       " 56: '8',\n",
       " 87: 'W',\n",
       " 74: 'J',\n",
       " 31: '\\x1f',\n",
       " 89: 'Y',\n",
       " 12: '\\x0c',\n",
       " 4: '\\x04',\n",
       " 71: 'G',\n",
       " 92: '\\\\'}"
      ]
     },
     "execution_count": 12,
     "metadata": {},
     "output_type": "execute_result"
    }
   ],
   "source": [
    "dictionary = {}\n",
    "\n",
    "for idx, value in list_of_tuples:\n",
    "    dictionary[idx] = value\n",
    "\n",
    "dictionary"
   ]
  },
  {
   "cell_type": "code",
   "execution_count": 14,
   "metadata": {
    "execution": {
     "iopub.execute_input": "2020-11-19T21:29:53.079237Z",
     "iopub.status.busy": "2020-11-19T21:29:53.078238Z",
     "iopub.status.idle": "2020-11-19T21:29:53.109239Z",
     "shell.execute_reply": "2020-11-19T21:29:53.107239Z",
     "shell.execute_reply.started": "2020-11-19T21:29:53.078238Z"
    }
   },
   "outputs": [
    {
     "data": {
      "text/plain": [
       "[(1, 3), (1, 4), (1, 5), (2, 3), (2, 4), (2, 5), (3, 3), (3, 4), (3, 5)]"
      ]
     },
     "execution_count": 14,
     "metadata": {},
     "output_type": "execute_result"
    }
   ],
   "source": [
    "x = [1, 2, 3]\n",
    "y = [3, 4, 5]\n",
    "\n",
    "[(num1, num2) for num1 in x for num2 in y ]"
   ]
  },
  {
   "cell_type": "code",
   "execution_count": 15,
   "metadata": {
    "execution": {
     "iopub.execute_input": "2020-11-19T21:32:35.220690Z",
     "iopub.status.busy": "2020-11-19T21:32:35.219677Z",
     "iopub.status.idle": "2020-11-19T21:32:35.236675Z",
     "shell.execute_reply": "2020-11-19T21:32:35.234676Z",
     "shell.execute_reply.started": "2020-11-19T21:32:35.220690Z"
    }
   },
   "outputs": [
    {
     "data": {
      "text/plain": [
       "(0, 1, 4, 9, 16, 25)"
      ]
     },
     "execution_count": 15,
     "metadata": {},
     "output_type": "execute_result"
    }
   ],
   "source": [
    "# tuples\n",
    "\n",
    "tuple(x**2 for x in range(6))"
   ]
  },
  {
   "cell_type": "markdown",
   "metadata": {
    "execution": {
     "iopub.execute_input": "2020-11-19T01:34:48.841333Z",
     "iopub.status.busy": "2020-11-19T01:34:48.840329Z",
     "iopub.status.idle": "2020-11-19T01:34:48.855328Z",
     "shell.execute_reply": "2020-11-19T01:34:48.853327Z",
     "shell.execute_reply.started": "2020-11-19T01:34:48.841333Z"
    }
   },
   "source": [
    "### Generators and generator expression\n",
    "\n",
    "Generators may seem more mysterious than a for loop, but there are similarities:"
   ]
  },
  {
   "cell_type": "code",
   "execution_count": 28,
   "metadata": {
    "execution": {
     "iopub.execute_input": "2020-11-19T21:38:35.403890Z",
     "iopub.status.busy": "2020-11-19T21:38:35.402891Z",
     "iopub.status.idle": "2020-11-19T21:38:35.425905Z",
     "shell.execute_reply": "2020-11-19T21:38:35.423887Z",
     "shell.execute_reply.started": "2020-11-19T21:38:35.403890Z"
    }
   },
   "outputs": [],
   "source": [
    "def gen_square():\n",
    "    num = 1\n",
    "    while True:\n",
    "        yield num**2\n",
    "        num += 1\n",
    "\n",
    "squares = gen_square()"
   ]
  },
  {
   "cell_type": "code",
   "execution_count": 25,
   "metadata": {
    "execution": {
     "iopub.execute_input": "2020-11-19T21:37:43.208139Z",
     "iopub.status.busy": "2020-11-19T21:37:43.207139Z",
     "iopub.status.idle": "2020-11-19T21:37:43.226138Z",
     "shell.execute_reply": "2020-11-19T21:37:43.224136Z",
     "shell.execute_reply.started": "2020-11-19T21:37:43.208139Z"
    }
   },
   "outputs": [
    {
     "data": {
      "text/plain": [
       "1"
      ]
     },
     "execution_count": 25,
     "metadata": {},
     "output_type": "execute_result"
    }
   ],
   "source": [
    "next(squares)"
   ]
  },
  {
   "cell_type": "code",
   "execution_count": 26,
   "metadata": {
    "execution": {
     "iopub.execute_input": "2020-11-19T21:37:47.158401Z",
     "iopub.status.busy": "2020-11-19T21:37:47.157411Z",
     "iopub.status.idle": "2020-11-19T21:37:48.928403Z",
     "shell.execute_reply": "2020-11-19T21:37:48.923404Z",
     "shell.execute_reply.started": "2020-11-19T21:37:47.158401Z"
    }
   },
   "outputs": [
    {
     "ename": "StopIteration",
     "evalue": "",
     "output_type": "error",
     "traceback": [
      "\u001b[1;31m---------------------------------------------------------------------------\u001b[0m",
      "\u001b[1;31mStopIteration\u001b[0m                             Traceback (most recent call last)",
      "\u001b[1;32m<ipython-input-26-e7cf8d24b3b2>\u001b[0m in \u001b[0;36m<module>\u001b[1;34m\u001b[0m\n\u001b[1;32m----> 1\u001b[1;33m \u001b[0mnext\u001b[0m\u001b[1;33m(\u001b[0m\u001b[0msquares\u001b[0m\u001b[1;33m)\u001b[0m\u001b[1;33m\u001b[0m\u001b[1;33m\u001b[0m\u001b[0m\n\u001b[0m",
      "\u001b[1;31mStopIteration\u001b[0m: "
     ]
    }
   ],
   "source": [
    "next(squares)"
   ]
  },
  {
   "cell_type": "code",
   "execution_count": 19,
   "metadata": {
    "execution": {
     "iopub.execute_input": "2020-11-19T21:34:02.989631Z",
     "iopub.status.busy": "2020-11-19T21:34:02.988644Z",
     "iopub.status.idle": "2020-11-19T21:34:03.014632Z",
     "shell.execute_reply": "2020-11-19T21:34:03.012631Z",
     "shell.execute_reply.started": "2020-11-19T21:34:02.988644Z"
    }
   },
   "outputs": [
    {
     "data": {
      "text/plain": [
       "9"
      ]
     },
     "execution_count": 19,
     "metadata": {},
     "output_type": "execute_result"
    }
   ],
   "source": [
    "next(squares)"
   ]
  },
  {
   "cell_type": "markdown",
   "metadata": {
    "execution": {
     "iopub.execute_input": "2020-11-19T01:55:25.207352Z",
     "iopub.status.busy": "2020-11-19T01:55:25.206343Z",
     "iopub.status.idle": "2020-11-19T01:55:25.232344Z",
     "shell.execute_reply": "2020-11-19T01:55:25.230367Z",
     "shell.execute_reply.started": "2020-11-19T01:55:25.207352Z"
    }
   },
   "source": [
    "The way to think about generators is that they are a \"stateful\" iterator; they remember where they are in a loop. There are many advanced things you can do with generator; take a look at [this](https://realpython.com/introduction-to-python-generators/) tutorial to learn more about it. You can make simple generators with generator expression:"
   ]
  },
  {
   "cell_type": "code",
   "execution_count": 20,
   "metadata": {
    "execution": {
     "iopub.execute_input": "2020-11-19T21:35:00.754956Z",
     "iopub.status.busy": "2020-11-19T21:35:00.754956Z",
     "iopub.status.idle": "2020-11-19T21:35:00.771956Z",
     "shell.execute_reply": "2020-11-19T21:35:00.769959Z",
     "shell.execute_reply.started": "2020-11-19T21:35:00.754956Z"
    }
   },
   "outputs": [
    {
     "data": {
      "text/plain": [
       "<generator object <genexpr> at 0x000001AFA291C820>"
      ]
     },
     "execution_count": 20,
     "metadata": {},
     "output_type": "execute_result"
    }
   ],
   "source": [
    "gen = (x for x in range(11))\n",
    "gen"
   ]
  },
  {
   "cell_type": "code",
   "execution_count": 21,
   "metadata": {
    "execution": {
     "iopub.execute_input": "2020-11-19T21:35:12.898914Z",
     "iopub.status.busy": "2020-11-19T21:35:12.897912Z",
     "iopub.status.idle": "2020-11-19T21:35:12.917966Z",
     "shell.execute_reply": "2020-11-19T21:35:12.915913Z",
     "shell.execute_reply.started": "2020-11-19T21:35:12.898914Z"
    }
   },
   "outputs": [
    {
     "data": {
      "text/plain": [
       "0"
      ]
     },
     "execution_count": 21,
     "metadata": {},
     "output_type": "execute_result"
    }
   ],
   "source": [
    "next(gen)"
   ]
  },
  {
   "cell_type": "code",
   "execution_count": 22,
   "metadata": {
    "execution": {
     "iopub.execute_input": "2020-11-19T21:35:17.112057Z",
     "iopub.status.busy": "2020-11-19T21:35:17.111059Z",
     "iopub.status.idle": "2020-11-19T21:35:17.132058Z",
     "shell.execute_reply": "2020-11-19T21:35:17.131058Z",
     "shell.execute_reply.started": "2020-11-19T21:35:17.112057Z"
    }
   },
   "outputs": [
    {
     "data": {
      "text/plain": [
       "1"
      ]
     },
     "execution_count": 22,
     "metadata": {},
     "output_type": "execute_result"
    }
   ],
   "source": [
    "next(gen)"
   ]
  },
  {
   "cell_type": "code",
   "execution_count": 23,
   "metadata": {
    "execution": {
     "iopub.execute_input": "2020-11-19T21:35:23.081753Z",
     "iopub.status.busy": "2020-11-19T21:35:23.079757Z",
     "iopub.status.idle": "2020-11-19T21:35:23.106755Z",
     "shell.execute_reply": "2020-11-19T21:35:23.105753Z",
     "shell.execute_reply.started": "2020-11-19T21:35:23.081753Z"
    }
   },
   "outputs": [
    {
     "data": {
      "text/plain": [
       "[2, 3, 4, 5, 6, 7, 8, 9, 10]"
      ]
     },
     "execution_count": 23,
     "metadata": {},
     "output_type": "execute_result"
    }
   ],
   "source": [
    "[x for x in gen]"
   ]
  },
  {
   "cell_type": "markdown",
   "metadata": {},
   "source": [
    "### Get to know built-in functions\n",
    "\n",
    "We know quite a number of built-in Python functions already, like `sum()` and `len()`. [Check out]() the official Python documentations for a list.\n",
    "\n",
    "|Built-in Functions|||||\n",
    "|-|-|-|-|-|\n",
    "|`abs()`|`delattr()`|`hash()`|`memoryview()`|`set()`|\n",
    "|`all()`|`dict()`|`help()`|`min()`|`setattr()`|\n",
    "|`any()`|`dir()`|`hex()`|`next()`|`slice()`|\n",
    "|`ascii()`|`divmod()`|`id()`|`object()`|`sorted()`|\n",
    "|`bin()`|`enumerate()`|`input()`|`oct()`|`staticmethod()`|\n",
    "|`bool()`|`eval()`|`int()`|`open()`|`str()`|\n",
    "|`breakpoint()`|`exec()`|`isinstance()`|`ord()`|`sum()`|\n",
    "|`bytearray()`|`filter()`|`issubclass()`|`pow()`|`super()`|\n",
    "|`bytes()`|`float()`|`iter()`|`print()`|`tuple()`|\n",
    "|`callable()`|`format()`|`len()`|`property()`|`type()`|\n",
    "|`chr()`|`frozenset()`|`list()`|`range()`|`vars()`|\n",
    "|`classmethod()`|`getattr()`|`locals()`|`repr()`|`zip()`|\n",
    "|`compile()`|`globals()`|`map()`|`reversed()`|`__import__()`|\n",
    "|`complex()`|`hasattr()`|`max()`|`round()`||"
   ]
  },
  {
   "cell_type": "markdown",
   "metadata": {},
   "source": [
    "**Mathematics**: `abs()`, `bin()`, `bytes()`, `complex()`, `divmod()`, `hex()`, `oct()`, `pow()`, `round()`"
   ]
  },
  {
   "cell_type": "code",
   "execution_count": 29,
   "metadata": {
    "execution": {
     "iopub.execute_input": "2020-11-19T21:42:10.163411Z",
     "iopub.status.busy": "2020-11-19T21:42:10.162398Z",
     "iopub.status.idle": "2020-11-19T21:42:10.177397Z",
     "shell.execute_reply": "2020-11-19T21:42:10.174397Z",
     "shell.execute_reply.started": "2020-11-19T21:42:10.163411Z"
    }
   },
   "outputs": [
    {
     "data": {
      "text/plain": [
       "1234"
      ]
     },
     "execution_count": 29,
     "metadata": {},
     "output_type": "execute_result"
    }
   ],
   "source": [
    "abs(-1234) # Return aboslute value"
   ]
  },
  {
   "cell_type": "code",
   "execution_count": 30,
   "metadata": {
    "execution": {
     "iopub.execute_input": "2020-11-19T21:42:15.660002Z",
     "iopub.status.busy": "2020-11-19T21:42:15.660002Z",
     "iopub.status.idle": "2020-11-19T21:42:15.673002Z",
     "shell.execute_reply": "2020-11-19T21:42:15.671001Z",
     "shell.execute_reply.started": "2020-11-19T21:42:15.660002Z"
    }
   },
   "outputs": [
    {
     "data": {
      "text/plain": [
       "'0b10011010010'"
      ]
     },
     "execution_count": 30,
     "metadata": {},
     "output_type": "execute_result"
    }
   ],
   "source": [
    "bin(1234) # Return binary as string"
   ]
  },
  {
   "cell_type": "code",
   "execution_count": 31,
   "metadata": {
    "execution": {
     "iopub.execute_input": "2020-11-19T21:42:46.058485Z",
     "iopub.status.busy": "2020-11-19T21:42:46.057485Z",
     "iopub.status.idle": "2020-11-19T21:42:46.074485Z",
     "shell.execute_reply": "2020-11-19T21:42:46.072484Z",
     "shell.execute_reply.started": "2020-11-19T21:42:46.058485Z"
    }
   },
   "outputs": [
    {
     "data": {
      "text/plain": [
       "b'abc'"
      ]
     },
     "execution_count": 31,
     "metadata": {},
     "output_type": "execute_result"
    }
   ],
   "source": [
    "bytes(\"abc\", encoding='utf-8') # Encode to bytes"
   ]
  },
  {
   "cell_type": "code",
   "execution_count": 32,
   "metadata": {
    "execution": {
     "iopub.execute_input": "2020-11-19T21:42:56.521888Z",
     "iopub.status.busy": "2020-11-19T21:42:56.520889Z",
     "iopub.status.idle": "2020-11-19T21:42:56.531887Z",
     "shell.execute_reply": "2020-11-19T21:42:56.530887Z",
     "shell.execute_reply.started": "2020-11-19T21:42:56.520889Z"
    }
   },
   "outputs": [
    {
     "data": {
      "text/plain": [
       "(1234+2j)"
      ]
     },
     "execution_count": 32,
     "metadata": {},
     "output_type": "execute_result"
    }
   ],
   "source": [
    "complex(1234, 2) # Return complex number object"
   ]
  },
  {
   "cell_type": "code",
   "execution_count": 33,
   "metadata": {
    "execution": {
     "iopub.execute_input": "2020-11-19T21:43:25.824500Z",
     "iopub.status.busy": "2020-11-19T21:43:25.822502Z",
     "iopub.status.idle": "2020-11-19T21:43:25.851501Z",
     "shell.execute_reply": "2020-11-19T21:43:25.841497Z",
     "shell.execute_reply.started": "2020-11-19T21:43:25.823499Z"
    }
   },
   "outputs": [
    {
     "data": {
      "text/plain": [
       "(2, 1)"
      ]
     },
     "execution_count": 33,
     "metadata": {},
     "output_type": "execute_result"
    }
   ],
   "source": [
    "divmod(5, 2) # Return (quotient, remainder) tuple"
   ]
  },
  {
   "cell_type": "code",
   "execution_count": 34,
   "metadata": {
    "execution": {
     "iopub.execute_input": "2020-11-19T21:43:36.541543Z",
     "iopub.status.busy": "2020-11-19T21:43:36.540542Z",
     "iopub.status.idle": "2020-11-19T21:43:36.558544Z",
     "shell.execute_reply": "2020-11-19T21:43:36.557541Z",
     "shell.execute_reply.started": "2020-11-19T21:43:36.541543Z"
    }
   },
   "outputs": [
    {
     "data": {
      "text/plain": [
       "'0x4d2'"
      ]
     },
     "execution_count": 34,
     "metadata": {},
     "output_type": "execute_result"
    }
   ],
   "source": [
    "hex(1234) # Return hexidecimal string"
   ]
  },
  {
   "cell_type": "code",
   "execution_count": 35,
   "metadata": {
    "execution": {
     "iopub.execute_input": "2020-11-19T21:43:40.055541Z",
     "iopub.status.busy": "2020-11-19T21:43:40.054542Z",
     "iopub.status.idle": "2020-11-19T21:43:40.080575Z",
     "shell.execute_reply": "2020-11-19T21:43:40.079541Z",
     "shell.execute_reply.started": "2020-11-19T21:43:40.055541Z"
    }
   },
   "outputs": [
    {
     "data": {
      "text/plain": [
       "'0o2322'"
      ]
     },
     "execution_count": 35,
     "metadata": {},
     "output_type": "execute_result"
    }
   ],
   "source": [
    "oct(1234) # Return octal string"
   ]
  },
  {
   "cell_type": "code",
   "execution_count": 37,
   "metadata": {
    "execution": {
     "iopub.execute_input": "2020-11-19T21:44:04.846913Z",
     "iopub.status.busy": "2020-11-19T21:44:04.845882Z",
     "iopub.status.idle": "2020-11-19T21:44:04.857882Z",
     "shell.execute_reply": "2020-11-19T21:44:04.854881Z",
     "shell.execute_reply.started": "2020-11-19T21:44:04.846913Z"
    }
   },
   "outputs": [
    {
     "data": {
      "text/plain": [
       "True"
      ]
     },
     "execution_count": 37,
     "metadata": {},
     "output_type": "execute_result"
    }
   ],
   "source": [
    "pow(1234, 2) == 1234**2 # Return power of"
   ]
  },
  {
   "cell_type": "code",
   "execution_count": 38,
   "metadata": {
    "execution": {
     "iopub.execute_input": "2020-11-19T21:44:17.317984Z",
     "iopub.status.busy": "2020-11-19T21:44:17.317984Z",
     "iopub.status.idle": "2020-11-19T21:44:17.329985Z",
     "shell.execute_reply": "2020-11-19T21:44:17.327983Z",
     "shell.execute_reply.started": "2020-11-19T21:44:17.317984Z"
    }
   },
   "outputs": [
    {
     "data": {
      "text/plain": [
       "1234"
      ]
     },
     "execution_count": 38,
     "metadata": {},
     "output_type": "execute_result"
    }
   ],
   "source": [
    "round(1234.1234)"
   ]
  },
  {
   "cell_type": "markdown",
   "metadata": {},
   "source": [
    "**Array- and collection-related**: `all()`, `any()` `bytearray()`, `dict()`, `enumerate()`, `filter()`, `format()`, `frozenset()`, `len()`, `list()`, `max()`, `min()`, `reversed()`, `set()`, `slice()`, `sorted()`, `zip()`"
   ]
  },
  {
   "cell_type": "code",
   "execution_count": null,
   "metadata": {},
   "outputs": [],
   "source": []
  },
  {
   "cell_type": "code",
   "execution_count": 39,
   "metadata": {
    "execution": {
     "iopub.execute_input": "2020-11-19T21:44:37.103585Z",
     "iopub.status.busy": "2020-11-19T21:44:37.102585Z",
     "iopub.status.idle": "2020-11-19T21:44:37.119589Z",
     "shell.execute_reply": "2020-11-19T21:44:37.115610Z",
     "shell.execute_reply.started": "2020-11-19T21:44:37.103585Z"
    }
   },
   "outputs": [
    {
     "data": {
      "text/plain": [
       "(True, False)"
      ]
     },
     "execution_count": 39,
     "metadata": {},
     "output_type": "execute_result"
    }
   ],
   "source": [
    "all([True, True, True]), all([True, True, False])"
   ]
  },
  {
   "cell_type": "code",
   "execution_count": 40,
   "metadata": {
    "execution": {
     "iopub.execute_input": "2020-11-19T21:45:05.715473Z",
     "iopub.status.busy": "2020-11-19T21:45:05.714473Z",
     "iopub.status.idle": "2020-11-19T21:45:05.735477Z",
     "shell.execute_reply": "2020-11-19T21:45:05.726485Z",
     "shell.execute_reply.started": "2020-11-19T21:45:05.715473Z"
    }
   },
   "outputs": [
    {
     "data": {
      "text/plain": [
       "(True, True)"
      ]
     },
     "execution_count": 40,
     "metadata": {},
     "output_type": "execute_result"
    }
   ],
   "source": [
    "any([True, True, True]), any([True, True, False])"
   ]
  },
  {
   "cell_type": "code",
   "execution_count": 41,
   "metadata": {
    "execution": {
     "iopub.execute_input": "2020-11-19T21:45:22.325006Z",
     "iopub.status.busy": "2020-11-19T21:45:22.324007Z",
     "iopub.status.idle": "2020-11-19T21:45:22.349007Z",
     "shell.execute_reply": "2020-11-19T21:45:22.347004Z",
     "shell.execute_reply.started": "2020-11-19T21:45:22.325006Z"
    }
   },
   "outputs": [
    {
     "data": {
      "text/plain": [
       "bytearray(b'\\x01\\x02\\x03\\x04\\x05')"
      ]
     },
     "execution_count": 41,
     "metadata": {},
     "output_type": "execute_result"
    }
   ],
   "source": [
    "bytearray([1, 2, 3, 4, 5])"
   ]
  },
  {
   "cell_type": "code",
   "execution_count": 42,
   "metadata": {
    "execution": {
     "iopub.execute_input": "2020-11-19T21:45:33.327082Z",
     "iopub.status.busy": "2020-11-19T21:45:33.326082Z",
     "iopub.status.idle": "2020-11-19T21:45:33.338082Z",
     "shell.execute_reply": "2020-11-19T21:45:33.337106Z",
     "shell.execute_reply.started": "2020-11-19T21:45:33.327082Z"
    }
   },
   "outputs": [
    {
     "data": {
      "text/plain": [
       "True"
      ]
     },
     "execution_count": 42,
     "metadata": {},
     "output_type": "execute_result"
    }
   ],
   "source": [
    "dict(a=1, b=2, c=3) == {'a': 1, 'b': 2, 'c': 3}"
   ]
  },
  {
   "cell_type": "code",
   "execution_count": 43,
   "metadata": {
    "execution": {
     "iopub.execute_input": "2020-11-19T21:46:22.812277Z",
     "iopub.status.busy": "2020-11-19T21:46:22.811277Z",
     "iopub.status.idle": "2020-11-19T21:46:22.825276Z",
     "shell.execute_reply": "2020-11-19T21:46:22.823277Z",
     "shell.execute_reply.started": "2020-11-19T21:46:22.812277Z"
    }
   },
   "outputs": [
    {
     "data": {
      "text/plain": [
       "[(0, 'a'), (1, 'b'), (2, 'c')]"
      ]
     },
     "execution_count": 43,
     "metadata": {},
     "output_type": "execute_result"
    }
   ],
   "source": [
    "[(idx, val) \n",
    " for (idx, val) \n",
    " in enumerate(['a', 'b', 'c'])\n",
    "]"
   ]
  },
  {
   "cell_type": "code",
   "execution_count": 44,
   "metadata": {
    "execution": {
     "iopub.execute_input": "2020-11-19T21:47:40.205241Z",
     "iopub.status.busy": "2020-11-19T21:47:40.205241Z",
     "iopub.status.idle": "2020-11-19T21:47:40.217242Z",
     "shell.execute_reply": "2020-11-19T21:47:40.215261Z",
     "shell.execute_reply.started": "2020-11-19T21:47:40.205241Z"
    }
   },
   "outputs": [
    {
     "data": {
      "text/plain": [
       "[3, 4, 5]"
      ]
     },
     "execution_count": 44,
     "metadata": {},
     "output_type": "execute_result"
    }
   ],
   "source": [
    "list(                          # Filter returns a generator; use list() to make an array\n",
    "    filter(\n",
    "        lambda x: x > 2,       # Function or lambda expression that returns a boolean\n",
    "        range(1, 6)            # Iterable\n",
    "    )\n",
    ")                              # This, btw, is not Pythonic, you should use a conditional list comprehension instead"
   ]
  },
  {
   "cell_type": "code",
   "execution_count": 45,
   "metadata": {
    "execution": {
     "iopub.execute_input": "2020-11-19T21:48:19.601881Z",
     "iopub.status.busy": "2020-11-19T21:48:19.600882Z",
     "iopub.status.idle": "2020-11-19T21:48:19.624882Z",
     "shell.execute_reply": "2020-11-19T21:48:19.623878Z",
     "shell.execute_reply.started": "2020-11-19T21:48:19.601881Z"
    }
   },
   "outputs": [
    {
     "data": {
      "text/plain": [
       "[3, 4, 5]"
      ]
     },
     "execution_count": 45,
     "metadata": {},
     "output_type": "execute_result"
    }
   ],
   "source": [
    "[x for x in range(1, 6) if x > 2]"
   ]
  },
  {
   "cell_type": "code",
   "execution_count": 46,
   "metadata": {
    "execution": {
     "iopub.execute_input": "2020-11-19T21:48:33.840768Z",
     "iopub.status.busy": "2020-11-19T21:48:33.837752Z",
     "iopub.status.idle": "2020-11-19T21:48:33.850750Z",
     "shell.execute_reply": "2020-11-19T21:48:33.848761Z",
     "shell.execute_reply.started": "2020-11-19T21:48:33.840768Z"
    }
   },
   "outputs": [
    {
     "data": {
      "text/plain": [
       "'001234.000'"
      ]
     },
     "execution_count": 46,
     "metadata": {},
     "output_type": "execute_result"
    }
   ],
   "source": [
    "format(1234, '010.3f')        # It is rare you should use this; more often you woul use an f-string or str.format()"
   ]
  },
  {
   "cell_type": "code",
   "execution_count": 47,
   "metadata": {
    "execution": {
     "iopub.execute_input": "2020-11-19T21:48:56.456202Z",
     "iopub.status.busy": "2020-11-19T21:48:56.456202Z",
     "iopub.status.idle": "2020-11-19T21:48:56.475201Z",
     "shell.execute_reply": "2020-11-19T21:48:56.473250Z",
     "shell.execute_reply.started": "2020-11-19T21:48:56.456202Z"
    }
   },
   "outputs": [
    {
     "data": {
      "text/plain": [
       "True"
      ]
     },
     "execution_count": 47,
     "metadata": {},
     "output_type": "execute_result"
    }
   ],
   "source": [
    "a_set = set([1, 2, 3])\n",
    "a_set == {1, 2, 3}"
   ]
  },
  {
   "cell_type": "code",
   "execution_count": 48,
   "metadata": {
    "execution": {
     "iopub.execute_input": "2020-11-19T21:49:00.726279Z",
     "iopub.status.busy": "2020-11-19T21:49:00.726279Z",
     "iopub.status.idle": "2020-11-19T21:49:00.747279Z",
     "shell.execute_reply": "2020-11-19T21:49:00.745279Z",
     "shell.execute_reply.started": "2020-11-19T21:49:00.726279Z"
    }
   },
   "outputs": [
    {
     "data": {
      "text/plain": [
       "(1, {2, 3})"
      ]
     },
     "execution_count": 48,
     "metadata": {},
     "output_type": "execute_result"
    }
   ],
   "source": [
    "a_set.pop(), a_set"
   ]
  },
  {
   "cell_type": "code",
   "execution_count": 49,
   "metadata": {
    "execution": {
     "iopub.execute_input": "2020-11-19T21:49:34.497298Z",
     "iopub.status.busy": "2020-11-19T21:49:34.497298Z",
     "iopub.status.idle": "2020-11-19T21:49:34.518300Z",
     "shell.execute_reply": "2020-11-19T21:49:34.516300Z",
     "shell.execute_reply.started": "2020-11-19T21:49:34.497298Z"
    }
   },
   "outputs": [
    {
     "data": {
      "text/plain": [
       "frozenset({1, 2, 3})"
      ]
     },
     "execution_count": 49,
     "metadata": {},
     "output_type": "execute_result"
    }
   ],
   "source": [
    "b_set = frozenset([1, 2, 3])\n",
    "b_set"
   ]
  },
  {
   "cell_type": "code",
   "execution_count": 50,
   "metadata": {
    "execution": {
     "iopub.execute_input": "2020-11-19T21:49:38.554300Z",
     "iopub.status.busy": "2020-11-19T21:49:38.554300Z",
     "iopub.status.idle": "2020-11-19T21:49:38.571299Z",
     "shell.execute_reply": "2020-11-19T21:49:38.567298Z",
     "shell.execute_reply.started": "2020-11-19T21:49:38.554300Z"
    }
   },
   "outputs": [
    {
     "name": "stdout",
     "output_type": "stream",
     "text": [
      "AttributeError(\"'frozenset' object has no attribute 'pop'\")\n"
     ]
    }
   ],
   "source": [
    "try:\n",
    "    b_set.pop()\n",
    "except AttributeError as e:\n",
    "    print(repr(e))"
   ]
  },
  {
   "cell_type": "code",
   "execution_count": 55,
   "metadata": {
    "execution": {
     "iopub.execute_input": "2020-11-19T21:50:22.107459Z",
     "iopub.status.busy": "2020-11-19T21:50:22.106463Z",
     "iopub.status.idle": "2020-11-19T21:50:22.129457Z",
     "shell.execute_reply": "2020-11-19T21:50:22.127456Z",
     "shell.execute_reply.started": "2020-11-19T21:50:22.107459Z"
    }
   },
   "outputs": [
    {
     "data": {
      "text/plain": [
       "<list_iterator at 0x1afa2909400>"
      ]
     },
     "execution_count": 55,
     "metadata": {},
     "output_type": "execute_result"
    }
   ],
   "source": [
    "iter([1, 2, 3, 4])"
   ]
  },
  {
   "cell_type": "code",
   "execution_count": 56,
   "metadata": {
    "execution": {
     "iopub.execute_input": "2020-11-19T21:50:23.946238Z",
     "iopub.status.busy": "2020-11-19T21:50:23.945239Z",
     "iopub.status.idle": "2020-11-19T21:50:23.959239Z",
     "shell.execute_reply": "2020-11-19T21:50:23.956239Z",
     "shell.execute_reply.started": "2020-11-19T21:50:23.946238Z"
    }
   },
   "outputs": [
    {
     "data": {
      "text/plain": [
       "1"
      ]
     },
     "execution_count": 56,
     "metadata": {},
     "output_type": "execute_result"
    }
   ],
   "source": [
    "next(_)"
   ]
  },
  {
   "cell_type": "code",
   "execution_count": 57,
   "metadata": {
    "execution": {
     "iopub.execute_input": "2020-11-19T21:50:25.580336Z",
     "iopub.status.busy": "2020-11-19T21:50:25.579336Z",
     "iopub.status.idle": "2020-11-19T21:50:25.600338Z",
     "shell.execute_reply": "2020-11-19T21:50:25.598335Z",
     "shell.execute_reply.started": "2020-11-19T21:50:25.580336Z"
    }
   },
   "outputs": [
    {
     "data": {
      "text/plain": [
       "2"
      ]
     },
     "execution_count": 57,
     "metadata": {},
     "output_type": "execute_result"
    }
   ],
   "source": [
    "next(__)"
   ]
  },
  {
   "cell_type": "code",
   "execution_count": 53,
   "metadata": {
    "execution": {
     "iopub.execute_input": "2020-11-19T21:50:10.880571Z",
     "iopub.status.busy": "2020-11-19T21:50:10.880571Z",
     "iopub.status.idle": "2020-11-19T21:50:10.897571Z",
     "shell.execute_reply": "2020-11-19T21:50:10.895571Z",
     "shell.execute_reply.started": "2020-11-19T21:50:10.880571Z"
    }
   },
   "outputs": [
    {
     "data": {
      "text/plain": [
       "3"
      ]
     },
     "execution_count": 53,
     "metadata": {},
     "output_type": "execute_result"
    }
   ],
   "source": [
    "len(b_set)"
   ]
  },
  {
   "cell_type": "code",
   "execution_count": 58,
   "metadata": {
    "execution": {
     "iopub.execute_input": "2020-11-19T21:50:33.561345Z",
     "iopub.status.busy": "2020-11-19T21:50:33.561345Z",
     "iopub.status.idle": "2020-11-19T21:50:33.573344Z",
     "shell.execute_reply": "2020-11-19T21:50:33.571347Z",
     "shell.execute_reply.started": "2020-11-19T21:50:33.561345Z"
    }
   },
   "outputs": [
    {
     "data": {
      "text/plain": [
       "['a', 'b', 'c']"
      ]
     },
     "execution_count": 58,
     "metadata": {},
     "output_type": "execute_result"
    }
   ],
   "source": [
    "list('abc')    # Turns an iterable into a list; a string is a literable with each character a member"
   ]
  },
  {
   "cell_type": "code",
   "execution_count": 59,
   "metadata": {
    "execution": {
     "iopub.execute_input": "2020-11-19T21:51:20.805472Z",
     "iopub.status.busy": "2020-11-19T21:51:20.805472Z",
     "iopub.status.idle": "2020-11-19T21:51:20.823468Z",
     "shell.execute_reply": "2020-11-19T21:51:20.820478Z",
     "shell.execute_reply.started": "2020-11-19T21:51:20.805472Z"
    }
   },
   "outputs": [
    {
     "data": {
      "text/plain": [
       "[1, 4, 9, 16, 25]"
      ]
     },
     "execution_count": 59,
     "metadata": {},
     "output_type": "execute_result"
    }
   ],
   "source": [
    "list(map(lambda x: x**2, [1, 2, 3, 4, 5])     # Again, this is not pythonic"
   ]
  },
  {
   "cell_type": "code",
   "execution_count": 61,
   "metadata": {
    "execution": {
     "iopub.execute_input": "2020-11-19T21:55:16.532363Z",
     "iopub.status.busy": "2020-11-19T21:55:16.531365Z",
     "iopub.status.idle": "2020-11-19T21:55:16.547365Z",
     "shell.execute_reply": "2020-11-19T21:55:16.544364Z",
     "shell.execute_reply.started": "2020-11-19T21:55:16.532363Z"
    }
   },
   "outputs": [
    {
     "data": {
      "text/plain": [
       "[1, 4, 9, 16, 25]"
      ]
     },
     "execution_count": 61,
     "metadata": {},
     "output_type": "execute_result"
    }
   ],
   "source": [
    "[x**2 for x in [1, 2, 3, 4, 5]]"
   ]
  },
  {
   "cell_type": "code",
   "execution_count": 60,
   "metadata": {
    "execution": {
     "iopub.execute_input": "2020-11-19T21:53:47.217866Z",
     "iopub.status.busy": "2020-11-19T21:53:47.216865Z",
     "iopub.status.idle": "2020-11-19T21:53:47.238867Z",
     "shell.execute_reply": "2020-11-19T21:53:47.236866Z",
     "shell.execute_reply.started": "2020-11-19T21:53:47.217866Z"
    }
   },
   "outputs": [
    {
     "data": {
      "text/plain": [
       "('c', 'a')"
      ]
     },
     "execution_count": 60,
     "metadata": {},
     "output_type": "execute_result"
    }
   ],
   "source": [
    "max('abc'), min('abc')"
   ]
  },
  {
   "cell_type": "code",
   "execution_count": null,
   "metadata": {},
   "outputs": [],
   "source": [
    "list(reversed('abc'))"
   ]
  },
  {
   "cell_type": "code",
   "execution_count": null,
   "metadata": {},
   "outputs": [],
   "source": [
    "[1, 2, 3, 4, 5][slice(2, 4)] == [1, 2, 3, 4, 5][2:4]"
   ]
  },
  {
   "cell_type": "code",
   "execution_count": 62,
   "metadata": {
    "execution": {
     "iopub.execute_input": "2020-11-19T21:56:48.563412Z",
     "iopub.status.busy": "2020-11-19T21:56:48.562424Z",
     "iopub.status.idle": "2020-11-19T21:56:48.578411Z",
     "shell.execute_reply": "2020-11-19T21:56:48.576411Z",
     "shell.execute_reply.started": "2020-11-19T21:56:48.563412Z"
    }
   },
   "outputs": [
    {
     "data": {
      "text/plain": [
       "['a', 'b', 'c']"
      ]
     },
     "execution_count": 62,
     "metadata": {},
     "output_type": "execute_result"
    }
   ],
   "source": [
    "sorted(['c', 'b', 'a'])"
   ]
  },
  {
   "cell_type": "code",
   "execution_count": 77,
   "metadata": {
    "execution": {
     "iopub.execute_input": "2020-11-19T22:07:35.149154Z",
     "iopub.status.busy": "2020-11-19T22:07:35.148155Z",
     "iopub.status.idle": "2020-11-19T22:07:35.162157Z",
     "shell.execute_reply": "2020-11-19T22:07:35.161154Z",
     "shell.execute_reply.started": "2020-11-19T22:07:35.149154Z"
    }
   },
   "outputs": [
    {
     "name": "stdout",
     "output_type": "stream",
     "text": [
      "a x 1\n",
      "b y 2\n",
      "c z 3\n"
     ]
    }
   ],
   "source": [
    "list_1 = ['a', 'b', 'c']\n",
    "list_2 = ['x', 'y', 'z']\n",
    "list_3 = [1, 2, 3]\n",
    "\n",
    "for elem1, elem2, elem3 in zip(list_1, list_2, list_3):\n",
    "    print(elem1, elem2, elem3)\n",
    "          "
   ]
  },
  {
   "cell_type": "code",
   "execution_count": 84,
   "metadata": {
    "execution": {
     "iopub.execute_input": "2020-11-19T22:10:07.484211Z",
     "iopub.status.busy": "2020-11-19T22:10:07.483212Z",
     "iopub.status.idle": "2020-11-19T22:10:07.506210Z",
     "shell.execute_reply": "2020-11-19T22:10:07.505211Z",
     "shell.execute_reply.started": "2020-11-19T22:10:07.484211Z"
    }
   },
   "outputs": [
    {
     "name": "stdout",
     "output_type": "stream",
     "text": [
      "('x', 1)\n",
      "('y', 2)\n"
     ]
    }
   ],
   "source": [
    "for elem in zip(list_2, [1, 2]):\n",
    "                \n",
    "    print(elem)"
   ]
  },
  {
   "cell_type": "code",
   "execution_count": 86,
   "metadata": {
    "execution": {
     "iopub.execute_input": "2020-11-19T22:11:49.351358Z",
     "iopub.status.busy": "2020-11-19T22:11:49.350354Z",
     "iopub.status.idle": "2020-11-19T22:11:49.370356Z",
     "shell.execute_reply": "2020-11-19T22:11:49.369356Z",
     "shell.execute_reply.started": "2020-11-19T22:11:49.351358Z"
    }
   },
   "outputs": [
    {
     "data": {
      "text/plain": [
       "[('a', 'x'),\n",
       " ('a', 'y'),\n",
       " ('a', 'z'),\n",
       " ('b', 'x'),\n",
       " ('b', 'y'),\n",
       " ('b', 'z'),\n",
       " ('c', 'x'),\n",
       " ('c', 'y'),\n",
       " ('c', 'z')]"
      ]
     },
     "execution_count": 86,
     "metadata": {},
     "output_type": "execute_result"
    }
   ],
   "source": [
    "from itertools import product\n",
    "\n",
    "list(product(list_1, list_2))"
   ]
  },
  {
   "cell_type": "markdown",
   "metadata": {},
   "source": [
    "**Casting and Type-Related**: `ascii()`, `chr()`, `float()`, `hash()`, `id()`, `int()`, `isinstance()`, `iter()`, `ord()`, `str()`, `type()`"
   ]
  },
  {
   "cell_type": "code",
   "execution_count": 64,
   "metadata": {
    "execution": {
     "iopub.execute_input": "2020-11-19T21:57:27.846891Z",
     "iopub.status.busy": "2020-11-19T21:57:27.845892Z",
     "iopub.status.idle": "2020-11-19T21:57:27.875891Z",
     "shell.execute_reply": "2020-11-19T21:57:27.873889Z",
     "shell.execute_reply.started": "2020-11-19T21:57:27.846891Z"
    }
   },
   "outputs": [
    {
     "data": {
      "text/plain": [
       "\"'\\\\xdcber'\""
      ]
     },
     "execution_count": 64,
     "metadata": {},
     "output_type": "execute_result"
    }
   ],
   "source": [
    "ascii('Über')"
   ]
  },
  {
   "cell_type": "code",
   "execution_count": 65,
   "metadata": {
    "execution": {
     "iopub.execute_input": "2020-11-19T21:57:43.506663Z",
     "iopub.status.busy": "2020-11-19T21:57:43.505667Z",
     "iopub.status.idle": "2020-11-19T21:57:43.521662Z",
     "shell.execute_reply": "2020-11-19T21:57:43.519666Z",
     "shell.execute_reply.started": "2020-11-19T21:57:43.506663Z"
    }
   },
   "outputs": [
    {
     "data": {
      "text/plain": [
       "'{'"
      ]
     },
     "execution_count": 65,
     "metadata": {},
     "output_type": "execute_result"
    }
   ],
   "source": [
    "chr(123)"
   ]
  },
  {
   "cell_type": "code",
   "execution_count": 66,
   "metadata": {
    "execution": {
     "iopub.execute_input": "2020-11-19T21:57:56.176250Z",
     "iopub.status.busy": "2020-11-19T21:57:56.176250Z",
     "iopub.status.idle": "2020-11-19T21:57:56.199252Z",
     "shell.execute_reply": "2020-11-19T21:57:56.197294Z",
     "shell.execute_reply.started": "2020-11-19T21:57:56.176250Z"
    }
   },
   "outputs": [
    {
     "data": {
      "text/plain": [
       "500.0"
      ]
     },
     "execution_count": 66,
     "metadata": {},
     "output_type": "execute_result"
    }
   ],
   "source": [
    "float(500)"
   ]
  },
  {
   "cell_type": "code",
   "execution_count": 67,
   "metadata": {
    "execution": {
     "iopub.execute_input": "2020-11-19T21:58:00.159254Z",
     "iopub.status.busy": "2020-11-19T21:58:00.158253Z",
     "iopub.status.idle": "2020-11-19T21:58:00.180252Z",
     "shell.execute_reply": "2020-11-19T21:58:00.178253Z",
     "shell.execute_reply.started": "2020-11-19T21:58:00.159254Z"
    }
   },
   "outputs": [
    {
     "data": {
      "text/plain": [
       "3735695318829988187"
      ]
     },
     "execution_count": 67,
     "metadata": {},
     "output_type": "execute_result"
    }
   ],
   "source": [
    "hash('This is a secret')"
   ]
  },
  {
   "cell_type": "code",
   "execution_count": 68,
   "metadata": {
    "execution": {
     "iopub.execute_input": "2020-11-19T21:58:32.548564Z",
     "iopub.status.busy": "2020-11-19T21:58:32.547565Z",
     "iopub.status.idle": "2020-11-19T21:58:32.575578Z",
     "shell.execute_reply": "2020-11-19T21:58:32.572562Z",
     "shell.execute_reply.started": "2020-11-19T21:58:32.548564Z"
    }
   },
   "outputs": [
    {
     "data": {
      "text/plain": [
       "1853859385552"
      ]
     },
     "execution_count": 68,
     "metadata": {},
     "output_type": "execute_result"
    }
   ],
   "source": [
    "id('This is a secret')"
   ]
  },
  {
   "cell_type": "code",
   "execution_count": 69,
   "metadata": {
    "execution": {
     "iopub.execute_input": "2020-11-19T21:59:02.446630Z",
     "iopub.status.busy": "2020-11-19T21:59:02.445630Z",
     "iopub.status.idle": "2020-11-19T21:59:02.463650Z",
     "shell.execute_reply": "2020-11-19T21:59:02.461629Z",
     "shell.execute_reply.started": "2020-11-19T21:59:02.446630Z"
    }
   },
   "outputs": [
    {
     "data": {
      "text/plain": [
       "True"
      ]
     },
     "execution_count": 69,
     "metadata": {},
     "output_type": "execute_result"
    }
   ],
   "source": [
    "isinstance('Is this a string?', str)"
   ]
  },
  {
   "cell_type": "code",
   "execution_count": 70,
   "metadata": {
    "execution": {
     "iopub.execute_input": "2020-11-19T21:59:25.755708Z",
     "iopub.status.busy": "2020-11-19T21:59:25.753708Z",
     "iopub.status.idle": "2020-11-19T21:59:25.767707Z",
     "shell.execute_reply": "2020-11-19T21:59:25.766707Z",
     "shell.execute_reply.started": "2020-11-19T21:59:25.755708Z"
    }
   },
   "outputs": [
    {
     "data": {
      "text/plain": [
       "True"
      ]
     },
     "execution_count": 70,
     "metadata": {},
     "output_type": "execute_result"
    }
   ],
   "source": [
    "type('string') == str"
   ]
  },
  {
   "cell_type": "code",
   "execution_count": 71,
   "metadata": {
    "execution": {
     "iopub.execute_input": "2020-11-19T21:59:50.545385Z",
     "iopub.status.busy": "2020-11-19T21:59:50.544392Z",
     "iopub.status.idle": "2020-11-19T21:59:50.555385Z",
     "shell.execute_reply": "2020-11-19T21:59:50.553400Z",
     "shell.execute_reply.started": "2020-11-19T21:59:50.545385Z"
    }
   },
   "outputs": [
    {
     "data": {
      "text/plain": [
       "90"
      ]
     },
     "execution_count": 71,
     "metadata": {},
     "output_type": "execute_result"
    }
   ],
   "source": [
    "ord('Z')"
   ]
  },
  {
   "cell_type": "code",
   "execution_count": 72,
   "metadata": {
    "execution": {
     "iopub.execute_input": "2020-11-19T21:59:56.470917Z",
     "iopub.status.busy": "2020-11-19T21:59:56.470917Z",
     "iopub.status.idle": "2020-11-19T21:59:56.488902Z",
     "shell.execute_reply": "2020-11-19T21:59:56.487901Z",
     "shell.execute_reply.started": "2020-11-19T21:59:56.470917Z"
    }
   },
   "outputs": [
    {
     "data": {
      "text/plain": [
       "'123435'"
      ]
     },
     "execution_count": 72,
     "metadata": {},
     "output_type": "execute_result"
    }
   ],
   "source": [
    "str(123435)"
   ]
  },
  {
   "cell_type": "code",
   "execution_count": 73,
   "metadata": {
    "execution": {
     "iopub.execute_input": "2020-11-19T22:00:03.426316Z",
     "iopub.status.busy": "2020-11-19T22:00:03.425330Z",
     "iopub.status.idle": "2020-11-19T22:00:03.439316Z",
     "shell.execute_reply": "2020-11-19T22:00:03.437315Z",
     "shell.execute_reply.started": "2020-11-19T22:00:03.426316Z"
    }
   },
   "outputs": [
    {
     "data": {
      "text/plain": [
       "_sitebuiltins._Helper"
      ]
     },
     "execution_count": 73,
     "metadata": {},
     "output_type": "execute_result"
    }
   ],
   "source": [
    "type(help)"
   ]
  },
  {
   "cell_type": "markdown",
   "metadata": {},
   "source": [
    "**Class-related**: `callable()`, `classmethod()`, `delattr()`, `dir()`, `getattr()`, `hasattr()`, `issubclass()`, `object()`, `property()`, `setattr()`, `staticmethod()`, `super()`, `vars()`"
   ]
  },
  {
   "cell_type": "code",
   "execution_count": 74,
   "metadata": {
    "execution": {
     "iopub.execute_input": "2020-11-19T22:02:29.440334Z",
     "iopub.status.busy": "2020-11-19T22:02:29.439312Z",
     "iopub.status.idle": "2020-11-19T22:02:29.473314Z",
     "shell.execute_reply": "2020-11-19T22:02:29.472312Z",
     "shell.execute_reply.started": "2020-11-19T22:02:29.440334Z"
    }
   },
   "outputs": [],
   "source": [
    "class ExampleClass:\n",
    "    \n",
    "    def __init__(self, arg1, arg2=None):\n",
    "        self.arg1 = arg1\n",
    "        self.arg2 = arg2\n",
    "    \n",
    "    def method_1(self):\n",
    "        return self.arg1\n",
    "    \n",
    "    def method_2(self):\n",
    "        return self.arg2\n",
    "    \n",
    "    @classmethod\n",
    "    def class_method(cls):\n",
    "        return \"Hello! I'm a class method.\"\n",
    "    \n",
    "    @staticmethod\n",
    "    def static_method():\n",
    "        return \"Yo I'm a static method dawg\"\n",
    "    \n",
    "    \n",
    "\n",
    "example_object = ExampleClass('Hello!')"
   ]
  },
  {
   "cell_type": "code",
   "execution_count": null,
   "metadata": {},
   "outputs": [],
   "source": [
    "callable(example_object)"
   ]
  },
  {
   "cell_type": "code",
   "execution_count": null,
   "metadata": {},
   "outputs": [],
   "source": [
    "callable(example_object.method_1)"
   ]
  },
  {
   "cell_type": "code",
   "execution_count": null,
   "metadata": {},
   "outputs": [],
   "source": [
    "example_object.method_1()"
   ]
  },
  {
   "cell_type": "code",
   "execution_count": null,
   "metadata": {},
   "outputs": [],
   "source": [
    "ExampleClass.class_method()"
   ]
  },
  {
   "cell_type": "code",
   "execution_count": null,
   "metadata": {},
   "outputs": [],
   "source": [
    "ExampleClass.static_method()"
   ]
  },
  {
   "cell_type": "code",
   "execution_count": null,
   "metadata": {},
   "outputs": [],
   "source": [
    "dir(example_object)"
   ]
  },
  {
   "cell_type": "code",
   "execution_count": null,
   "metadata": {},
   "outputs": [],
   "source": [
    "example_object.arg1"
   ]
  },
  {
   "cell_type": "code",
   "execution_count": null,
   "metadata": {},
   "outputs": [],
   "source": [
    "delattr(example_object, 'arg1')"
   ]
  },
  {
   "cell_type": "code",
   "execution_count": null,
   "metadata": {},
   "outputs": [],
   "source": [
    "try:\n",
    "    example_object.arg1\n",
    "except AttributeError as e:\n",
    "    print(repr(e))"
   ]
  },
  {
   "cell_type": "code",
   "execution_count": null,
   "metadata": {},
   "outputs": [],
   "source": [
    "hasattr(example_object, 'arg1')"
   ]
  },
  {
   "cell_type": "code",
   "execution_count": null,
   "metadata": {},
   "outputs": [],
   "source": [
    "hasattr(example_object, 'arg2')"
   ]
  },
  {
   "cell_type": "code",
   "execution_count": null,
   "metadata": {},
   "outputs": [],
   "source": [
    "setattr(example_object, 'arg1', 'Hello!')\n",
    "example_object.arg1"
   ]
  },
  {
   "cell_type": "code",
   "execution_count": null,
   "metadata": {},
   "outputs": [],
   "source": [
    "example_object.arg3 = 'Hello again!'\n",
    "example_object.arg3"
   ]
  },
  {
   "cell_type": "code",
   "execution_count": null,
   "metadata": {},
   "outputs": [],
   "source": [
    "object()"
   ]
  },
  {
   "cell_type": "code",
   "execution_count": null,
   "metadata": {},
   "outputs": [],
   "source": [
    "vars(example_object)"
   ]
  },
  {
   "cell_type": "code",
   "execution_count": null,
   "metadata": {},
   "outputs": [],
   "source": [
    "class ExampleSubClass(ExampleClass):\n",
    "    \n",
    "    def __init__(self, newarg=None):\n",
    "        super().__init__(newarg)\n",
    "        self.newarg = newarg\n",
    "        self.incremented = self.newarg + 1\n",
    "\n",
    "subclass_object = ExampleSubClass(100)"
   ]
  },
  {
   "cell_type": "code",
   "execution_count": null,
   "metadata": {},
   "outputs": [],
   "source": [
    "issubclass(ExampleSubClass, ExampleClass)"
   ]
  },
  {
   "cell_type": "code",
   "execution_count": null,
   "metadata": {},
   "outputs": [],
   "source": [
    "subclass_object.newarg, subclass_object.incremented"
   ]
  },
  {
   "cell_type": "code",
   "execution_count": null,
   "metadata": {},
   "outputs": [],
   "source": [
    "subclass_object.newarg = 200\n",
    "\n",
    "subclass_object.newarg, subclass_object.incremented"
   ]
  },
  {
   "cell_type": "code",
   "execution_count": null,
   "metadata": {},
   "outputs": [],
   "source": [
    "class ExampleProperty(ExampleClass):\n",
    "    \n",
    "    def __init__(self, newarg=None):\n",
    "        super().__init__(newarg)\n",
    "        self.newarg = newarg\n",
    "        self.increment = self.newarg + 1\n",
    "    \n",
    "    @property\n",
    "    def newarg(self):\n",
    "        return self._newarg\n",
    "    \n",
    "    @newarg.setter\n",
    "    def newarg(self, value):\n",
    "        self._newarg = value\n",
    "        self.increment = self._newarg + 1\n",
    "\n",
    "subclass_obj_prop = ExampleProperty(100)"
   ]
  },
  {
   "cell_type": "code",
   "execution_count": null,
   "metadata": {},
   "outputs": [],
   "source": [
    "subclass_obj_prop.newarg, subclass_obj_prop.increment"
   ]
  },
  {
   "cell_type": "code",
   "execution_count": null,
   "metadata": {},
   "outputs": [],
   "source": [
    "subclass_obj_prop.newarg = 200\n",
    "\n",
    "subclass_obj_prop.newarg, subclass_obj_prop.increment"
   ]
  },
  {
   "cell_type": "markdown",
   "metadata": {},
   "source": [
    "**Miscellaneous Functions**: `compile()`, `eval()`, `exec()`, `globals()`, `help()`, `input()`, `locals()`, `memoryview()`, `open()`, `print()`, `repr()`"
   ]
  },
  {
   "cell_type": "code",
   "execution_count": null,
   "metadata": {},
   "outputs": [],
   "source": [
    "eval('11234 + 8954893')"
   ]
  },
  {
   "cell_type": "code",
   "execution_count": null,
   "metadata": {},
   "outputs": [],
   "source": [
    "exec('print(12335)')"
   ]
  },
  {
   "cell_type": "code",
   "execution_count": null,
   "metadata": {},
   "outputs": [],
   "source": [
    "module = compile(\n",
    "\"\"\"x = 10\n",
    "if x > 0:\n",
    "    print(\"It's positive!\")\n",
    "\"\"\",\n",
    "    './temp.txt',\n",
    "    mode='exec'\n",
    ")"
   ]
  },
  {
   "cell_type": "code",
   "execution_count": null,
   "metadata": {},
   "outputs": [],
   "source": [
    "exec(module)"
   ]
  },
  {
   "cell_type": "code",
   "execution_count": null,
   "metadata": {},
   "outputs": [],
   "source": [
    "globals()"
   ]
  },
  {
   "cell_type": "code",
   "execution_count": null,
   "metadata": {},
   "outputs": [],
   "source": [
    "def localscope():\n",
    "    x = 1\n",
    "    print(locals())\n",
    "\n",
    "localscope()"
   ]
  },
  {
   "cell_type": "code",
   "execution_count": null,
   "metadata": {},
   "outputs": [],
   "source": [
    "locals()"
   ]
  },
  {
   "cell_type": "code",
   "execution_count": null,
   "metadata": {},
   "outputs": [],
   "source": [
    "memoryview(bytes(123))"
   ]
  },
  {
   "cell_type": "code",
   "execution_count": null,
   "metadata": {},
   "outputs": [],
   "source": [
    "repr(example_object)"
   ]
  },
  {
   "cell_type": "code",
   "execution_count": null,
   "metadata": {},
   "outputs": [],
   "source": [
    "class ExampleClass:\n",
    "    \n",
    "    def __init__(self, arg1, arg2=None):\n",
    "        self.arg1 = arg1\n",
    "        self.arg2 = arg2\n",
    "    \n",
    "    def method_1(self):\n",
    "        return self.arg1\n",
    "    \n",
    "    def method_2(self):\n",
    "        return self.arg2\n",
    "    \n",
    "    @classmethod\n",
    "    def class_method(cls):\n",
    "        return \"Hello! I'm a class method.\"\n",
    "    \n",
    "    @staticmethod\n",
    "    def static_method():\n",
    "        return \"Yo I'm a static method dawg\"\n",
    "    \n",
    "    def __repr__(self):\n",
    "        return f\"<ExampleClass object {self.arg1}>\"\n",
    "    \n",
    "    \n",
    "\n",
    "example_object = ExampleClass('Hello!')"
   ]
  },
  {
   "cell_type": "code",
   "execution_count": null,
   "metadata": {},
   "outputs": [],
   "source": [
    "repr(example_object)"
   ]
  },
  {
   "cell_type": "markdown",
   "metadata": {},
   "source": [
    "### Embrace the Standard Library\n",
    "\n",
    "There are too many modules in the standard library to completely cover them here, but there are several that we really should know as data scientists:\n",
    "\n",
    "- `datetime`\n",
    "- `calendar`\n",
    "- `collections`\n",
    "- `heapq`\n",
    "- `bisect`\n",
    "- `pprint`\n",
    "- `fractions`\n",
    "- `random`\n",
    "- `statistics`\n",
    "- `itertools`\n",
    "- `functools`"
   ]
  },
  {
   "cell_type": "code",
   "execution_count": null,
   "metadata": {},
   "outputs": [],
   "source": [
    "import collections\n",
    "\n",
    "dir(collections)"
   ]
  },
  {
   "cell_type": "code",
   "execution_count": null,
   "metadata": {},
   "outputs": [],
   "source": [
    "ExampleNT = collections.namedtuple('nums', ['x', 'y', 'z'])"
   ]
  },
  {
   "cell_type": "code",
   "execution_count": null,
   "metadata": {},
   "outputs": [],
   "source": [
    "example_nt = ExampleNT(x=100, y=200, z=300)\n",
    "\n",
    "example_nt"
   ]
  },
  {
   "cell_type": "code",
   "execution_count": null,
   "metadata": {},
   "outputs": [],
   "source": [
    "example_nt.x"
   ]
  },
  {
   "cell_type": "code",
   "execution_count": null,
   "metadata": {},
   "outputs": [],
   "source": [
    "example_nt[0]"
   ]
  },
  {
   "cell_type": "code",
   "execution_count": null,
   "metadata": {},
   "outputs": [],
   "source": [
    "try:\n",
    "    example_nt['x']\n",
    "except TypeError as e:\n",
    "    print(repr(e))"
   ]
  },
  {
   "cell_type": "code",
   "execution_count": null,
   "metadata": {},
   "outputs": [],
   "source": [
    "randomlist = [randint(1, 1001) for _ in range(500_000)]"
   ]
  },
  {
   "cell_type": "code",
   "execution_count": null,
   "metadata": {},
   "outputs": [],
   "source": [
    "while len(randomlist) > 0:\n",
    "    randomlist.pop(0)\n",
    "\n",
    "# Last executed at 2020-11-19 12:34:17 in 2m 43.98s"
   ]
  },
  {
   "cell_type": "code",
   "execution_count": null,
   "metadata": {},
   "outputs": [],
   "source": [
    "from collections import deque\n",
    "\n",
    "randomdeque = deque()\n",
    "[randomdeque.append(randint(1, 1001)) for _ in range(500_000)];"
   ]
  },
  {
   "cell_type": "code",
   "execution_count": null,
   "metadata": {},
   "outputs": [],
   "source": [
    "while len(randomdeque) > 0:\n",
    "    randomdeque.popleft()\n",
    "\n",
    "# Last executed at 2020-11-19 12:42:33 in 178ms"
   ]
  },
  {
   "cell_type": "code",
   "execution_count": null,
   "metadata": {},
   "outputs": [],
   "source": [
    "from collections import ChainMap\n",
    "\n",
    "dict1 = {'a': 1, 'b': 2, 'c': 3}\n",
    "dict2 = {'e': 4, 'f': 5, 'g': 6}"
   ]
  },
  {
   "cell_type": "code",
   "execution_count": null,
   "metadata": {},
   "outputs": [],
   "source": [
    "big_dict = ChainMap(dict1, dict2)\n",
    "\n",
    "big_dict"
   ]
  },
  {
   "cell_type": "code",
   "execution_count": null,
   "metadata": {},
   "outputs": [],
   "source": [
    "big_dict['h'] = 7\n",
    "\n",
    "big_dict"
   ]
  },
  {
   "cell_type": "code",
   "execution_count": null,
   "metadata": {},
   "outputs": [],
   "source": [
    "big_dict['e']"
   ]
  },
  {
   "cell_type": "code",
   "execution_count": null,
   "metadata": {},
   "outputs": [],
   "source": [
    "from collections import Counter\n",
    "\n",
    "randomlist = [randint(1, 101) for _ in range(100)]\n",
    "Counter(randomlist)"
   ]
  },
  {
   "cell_type": "code",
   "execution_count": null,
   "metadata": {},
   "outputs": [],
   "source": [
    "from collections import defaultdict\n",
    "\n",
    "normal_dict = dict()\n",
    "super_dict = defaultdict(int)"
   ]
  },
  {
   "cell_type": "code",
   "execution_count": null,
   "metadata": {},
   "outputs": [],
   "source": [
    "try:\n",
    "    normal_dict['test'] += 1\n",
    "except KeyError as e:\n",
    "    print(repr(e))"
   ]
  },
  {
   "cell_type": "code",
   "execution_count": null,
   "metadata": {},
   "outputs": [],
   "source": [
    "super_dict['test'] += 1"
   ]
  },
  {
   "cell_type": "code",
   "execution_count": null,
   "metadata": {},
   "outputs": [],
   "source": [
    "super_dict['test']"
   ]
  }
 ],
 "metadata": {
  "kernelspec": {
   "display_name": "Python 3",
   "language": "python",
   "name": "python3"
  },
  "language_info": {
   "codemirror_mode": {
    "name": "ipython",
    "version": 3
   },
   "file_extension": ".py",
   "mimetype": "text/x-python",
   "name": "python",
   "nbconvert_exporter": "python",
   "pygments_lexer": "ipython3",
   "version": "3.8.5"
  }
 },
 "nbformat": 4,
 "nbformat_minor": 4
}
