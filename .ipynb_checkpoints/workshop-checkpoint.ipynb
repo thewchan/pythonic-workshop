{
 "cells": [
  {
   "cell_type": "markdown",
   "metadata": {},
   "source": [
    "# Pythonic Code Writing"
   ]
  },
  {
   "cell_type": "markdown",
   "metadata": {},
   "source": [
    "## What does it mean for code to be \"Pythonic\"?\n",
    "\n",
    "This is a rather subjective idea, but we can look to PEP20 or the \"Zen of Python\" to get some benchmarks:"
   ]
  },
  {
   "cell_type": "code",
   "execution_count": null,
   "metadata": {},
   "outputs": [],
   "source": [
    "import this"
   ]
  },
  {
   "cell_type": "markdown",
   "metadata": {},
   "source": [
    "While helpful, the Zen is rather subjective, and some of its tenets conflicts each other at times. I have grouped some of these principles into three main ideas:\n",
    "\n",
    "- Utilizing built-in Python mechanics\n",
    "- Value consistency and readability\n",
    "- Avoid over committing to one programming paradigm"
   ]
  },
  {
   "cell_type": "markdown",
   "metadata": {},
   "source": [
    "## Utilizing built-in Python mechanics\n",
    "\n",
    "> \"Flat is better than nested.\"</br>\n",
    "> \"Sparse is better than dense.\"</br>\n",
    "> \"Errors should never pass silently.\"</br>\n",
    "> \"There should be one-- and preferably only one --obvious way to do it.\"</br>"
   ]
  },
  {
   "cell_type": "markdown",
   "metadata": {},
   "source": [
    "There are many programming practices that are similar or even identical across multiple programming languages. For example, a for loop in C conceptually is pretty much the same as a for loop in Python; the syntax is a bit different but not even that much. However, Python itself has quite a few relatively unique features that often provide ease of writing, reading, and even speed."
   ]
  },
  {
   "cell_type": "markdown",
   "metadata": {},
   "source": [
    "### Comprehensions\n",
    "\n",
    "Python isn't the first language to implement list comprehensions, but it's certainly one of the first main stream programming language to embrace it. List comprehension ostensibly is a way to create list (or other array-likes) in a succinct way. The syntax is:\n",
    "\n",
    "```\n",
    "[statement/expression for member in iterable (if conditional)]\n",
    "```\n",
    "\n",
    "Here is a very simple list of incrementing integers created this way:"
   ]
  },
  {
   "cell_type": "code",
   "execution_count": null,
   "metadata": {},
   "outputs": [],
   "source": [
    "[x for x in range(11)]"
   ]
  },
  {
   "cell_type": "markdown",
   "metadata": {},
   "source": [
    "Note that if you can writing something in a list comprehension, you can write it in a for-loop (the reverse is not necessarily true.)"
   ]
  },
  {
   "cell_type": "code",
   "execution_count": null,
   "metadata": {},
   "outputs": [],
   "source": [
    "lst = []\n",
    "for num in range(11):\n",
    "    lst.append(num)\n",
    "\n",
    "lst"
   ]
  },
  {
   "cell_type": "markdown",
   "metadata": {},
   "source": [
    "The `statement/expression` component of a list comprehension can be much more complex:"
   ]
  },
  {
   "cell_type": "code",
   "execution_count": null,
   "metadata": {},
   "outputs": [],
   "source": [
    "[int(bin(x).split('b')[1]) for x in range(11)]"
   ]
  },
  {
   "cell_type": "markdown",
   "metadata": {},
   "source": [
    "Remember that anything enclosed in Python can be broken to multiple lines, so we can make the former more \"readable\" by:"
   ]
  },
  {
   "cell_type": "code",
   "execution_count": null,
   "metadata": {},
   "outputs": [],
   "source": [
    "[int(\n",
    "    bin(x)\n",
    "         .split('b')[1])\n",
    " for x\n",
    " in range(11)]"
   ]
  },
  {
   "cell_type": "markdown",
   "metadata": {},
   "source": [
    "Or better yet:"
   ]
  },
  {
   "cell_type": "code",
   "execution_count": null,
   "metadata": {},
   "outputs": [],
   "source": [
    "def binarize(base10num):\n",
    "    binary_str = bin(base10num).split('b')[1]\n",
    "    \n",
    "    return int(binary_str)\n",
    "\n",
    "[binarize(x) for x in range(11)]"
   ]
  },
  {
   "cell_type": "markdown",
   "metadata": {
    "execution": {
     "iopub.execute_input": "2020-11-19T01:00:32.629144Z",
     "iopub.status.busy": "2020-11-19T01:00:32.629144Z",
     "iopub.status.idle": "2020-11-19T01:00:32.655132Z",
     "shell.execute_reply": "2020-11-19T01:00:32.653135Z",
     "shell.execute_reply.started": "2020-11-19T01:00:32.629144Z"
    }
   },
   "source": [
    "As we will see later, comprehensions are great replacements for `.map()`, `filter()`, and `reduce()` methods:"
   ]
  },
  {
   "cell_type": "code",
   "execution_count": null,
   "metadata": {},
   "outputs": [],
   "source": [
    "from random import randint\n",
    "\n",
    "random_list = [randint(1, 100) for i in range(100)]\n",
    "random_list"
   ]
  },
  {
   "cell_type": "code",
   "execution_count": null,
   "metadata": {},
   "outputs": [],
   "source": [
    "[print(f'{num} is divisible by 7.')\n",
    " for num\n",
    " in random_list\n",
    " if num % 7 == 0]"
   ]
  },
  {
   "cell_type": "markdown",
   "metadata": {},
   "source": [
    "In this above cell, we also demonstrated that you don't necessarily have to put an expression in a list comprehension; you can put a statement in there, and it will run like a for loop. Python will still make you a list of nulls, but that's okay because Python has pretty robust garbage collection.\n",
    "\n",
    "Almost all Python base collection has its own version of comprehensions:"
   ]
  },
  {
   "cell_type": "code",
   "execution_count": null,
   "metadata": {},
   "outputs": [],
   "source": [
    "# sets:\n",
    "\n",
    "{x for x in random_list if x % 7 == 0}"
   ]
  },
  {
   "cell_type": "code",
   "execution_count": null,
   "metadata": {},
   "outputs": [],
   "source": [
    "# Dictionary:\n",
    "list_of_tuples = [(num, chr(num)) for (num) in random_list]\n",
    "list_of_tuples"
   ]
  },
  {
   "cell_type": "code",
   "execution_count": null,
   "metadata": {},
   "outputs": [],
   "source": [
    "{idx: value for (idx, value) in list_of_tuples}"
   ]
  },
  {
   "cell_type": "markdown",
   "metadata": {},
   "source": [
    "The above is equivalent to:"
   ]
  },
  {
   "cell_type": "code",
   "execution_count": null,
   "metadata": {},
   "outputs": [],
   "source": [
    "dictionary = {}\n",
    "\n",
    "for idx, value in list_of_tuples:\n",
    "    dictionary[idx] = value\n",
    "\n",
    "dictionary"
   ]
  },
  {
   "cell_type": "code",
   "execution_count": null,
   "metadata": {},
   "outputs": [],
   "source": [
    "# tuples\n",
    "\n",
    "tuple(x**2 for x in range(6))"
   ]
  },
  {
   "cell_type": "markdown",
   "metadata": {
    "execution": {
     "iopub.execute_input": "2020-11-19T01:34:48.841333Z",
     "iopub.status.busy": "2020-11-19T01:34:48.840329Z",
     "iopub.status.idle": "2020-11-19T01:34:48.855328Z",
     "shell.execute_reply": "2020-11-19T01:34:48.853327Z",
     "shell.execute_reply.started": "2020-11-19T01:34:48.841333Z"
    }
   },
   "source": [
    "### Generators and generator expression\n",
    "\n",
    "Generators may seem more mysterious than a for loop, but there are similarities:"
   ]
  },
  {
   "cell_type": "code",
   "execution_count": null,
   "metadata": {},
   "outputs": [],
   "source": [
    "def gen_square():\n",
    "    num = 1\n",
    "    while True:\n",
    "        yield num**2\n",
    "        num += 1\n",
    "\n",
    "squares = gen_square()"
   ]
  },
  {
   "cell_type": "code",
   "execution_count": null,
   "metadata": {},
   "outputs": [],
   "source": [
    "next(squares)"
   ]
  },
  {
   "cell_type": "code",
   "execution_count": null,
   "metadata": {},
   "outputs": [],
   "source": [
    "next(squares)"
   ]
  },
  {
   "cell_type": "code",
   "execution_count": null,
   "metadata": {},
   "outputs": [],
   "source": [
    "next(squares)"
   ]
  },
  {
   "cell_type": "markdown",
   "metadata": {
    "execution": {
     "iopub.execute_input": "2020-11-19T01:55:25.207352Z",
     "iopub.status.busy": "2020-11-19T01:55:25.206343Z",
     "iopub.status.idle": "2020-11-19T01:55:25.232344Z",
     "shell.execute_reply": "2020-11-19T01:55:25.230367Z",
     "shell.execute_reply.started": "2020-11-19T01:55:25.207352Z"
    }
   },
   "source": [
    "The way to think about generators is that they are a \"stateful\" iterator; they remember where they are in a loop. There are many advanced things you can do with generator; take a look at [this](https://realpython.com/introduction-to-python-generators/) tutorial to learn more about it. You can make simple generators with generator expression:"
   ]
  },
  {
   "cell_type": "code",
   "execution_count": null,
   "metadata": {},
   "outputs": [],
   "source": [
    "gen = (x for x in range(11))\n",
    "gen"
   ]
  },
  {
   "cell_type": "code",
   "execution_count": null,
   "metadata": {},
   "outputs": [],
   "source": [
    "next(gen)"
   ]
  },
  {
   "cell_type": "code",
   "execution_count": null,
   "metadata": {},
   "outputs": [],
   "source": [
    "next(gen)"
   ]
  },
  {
   "cell_type": "code",
   "execution_count": null,
   "metadata": {},
   "outputs": [],
   "source": [
    "[x for x in gen]"
   ]
  },
  {
   "cell_type": "markdown",
   "metadata": {},
   "source": [
    "### Get to know built-in functions\n",
    "\n",
    "We know quite a number of built-in Python functions already, like `sum()` and `len()`. [Check out]() the official Python documentations for a list.\n",
    "\n",
    "|Built-in Functions|||||\n",
    "|-|-|-|-|-|\n",
    "|`abs()`|`delattr()`|`hash()`|`memoryview()`|`set()`|\n",
    "|`all()`|`dict()`|`help()`|`min()`|`setattr()`|\n",
    "|`any()`|`dir()`|`hex()`|`next()`|`slice()`|\n",
    "|`ascii()`|`divmod()`|`id()`|`object()`|`sorted()`|\n",
    "|`bin()`|`enumerate()`|`input()`|`oct()`|`staticmethod()`|\n",
    "|`bool()`|`eval()`|`int()`|`open()`|`str()`|\n",
    "|`breakpoint()`|`exec()`|`isinstance()`|`ord()`|`sum()`|\n",
    "|`bytearray()`|`filter()`|`issubclass()`|`pow()`|`super()`|\n",
    "|`bytes()`|`float()`|`iter()`|`print()`|`tuple()`|\n",
    "|`callable()`|`format()`|`len()`|`property()`|`type()`|\n",
    "|`chr()`|`frozenset()`|`list()`|`range()`|`vars()`|\n",
    "|`classmethod()`|`getattr()`|`locals()`|`repr()`|`zip()`|\n",
    "|`compile()`|`globals()`|`map()`|`reversed()`|`__import__()`|\n",
    "|`complex()`|`hasattr()`|`max()`|`round()`||"
   ]
  },
  {
   "cell_type": "markdown",
   "metadata": {},
   "source": [
    "**Mathematics**: `abs()`, `bin()`, `bytes()`, `complex()`, `divmod()`, `hex()`, `oct()`, `pow()`, `round()`"
   ]
  },
  {
   "cell_type": "code",
   "execution_count": null,
   "metadata": {},
   "outputs": [],
   "source": [
    "abs(-1234) # Return aboslute value"
   ]
  },
  {
   "cell_type": "code",
   "execution_count": null,
   "metadata": {},
   "outputs": [],
   "source": [
    "bin(1234) # Return binary as string"
   ]
  },
  {
   "cell_type": "code",
   "execution_count": null,
   "metadata": {},
   "outputs": [],
   "source": [
    "bytes(\"abc\", encoding='utf-8') # Encode to bytes"
   ]
  },
  {
   "cell_type": "code",
   "execution_count": null,
   "metadata": {},
   "outputs": [],
   "source": [
    "complex(1234, 2) # Return complex number object"
   ]
  },
  {
   "cell_type": "code",
   "execution_count": null,
   "metadata": {},
   "outputs": [],
   "source": [
    "divmod(5, 2) # Return (quotient, remainder) tuple"
   ]
  },
  {
   "cell_type": "code",
   "execution_count": null,
   "metadata": {},
   "outputs": [],
   "source": [
    "hex(1234) # Return hexidecimal string"
   ]
  },
  {
   "cell_type": "code",
   "execution_count": null,
   "metadata": {},
   "outputs": [],
   "source": [
    "oct(1234) # Return octal string"
   ]
  },
  {
   "cell_type": "code",
   "execution_count": null,
   "metadata": {},
   "outputs": [],
   "source": [
    "pow(1234, 2) == 1234**2 # Return power of"
   ]
  },
  {
   "cell_type": "code",
   "execution_count": null,
   "metadata": {},
   "outputs": [],
   "source": [
    "round(1234.1234)"
   ]
  },
  {
   "cell_type": "markdown",
   "metadata": {},
   "source": [
    "**Array- and collection-related**: `all()`, `any()` `bytearray()`, `dict()`, `enumerate()`, `filter()`, `format()`, `frozenset()`, `len()`, `list()`, `max()`, `min()`, `reversed()`, `set()`, `slice()`, `sorted()`, `zip()`"
   ]
  },
  {
   "cell_type": "code",
   "execution_count": null,
   "metadata": {},
   "outputs": [],
   "source": []
  },
  {
   "cell_type": "code",
   "execution_count": null,
   "metadata": {},
   "outputs": [],
   "source": [
    "all([True, True, True]), all([True, True, False])"
   ]
  },
  {
   "cell_type": "code",
   "execution_count": null,
   "metadata": {},
   "outputs": [],
   "source": [
    "any([True, True, True]), any([True, True, False])"
   ]
  },
  {
   "cell_type": "code",
   "execution_count": null,
   "metadata": {},
   "outputs": [],
   "source": [
    "bytearray([1, 2, 3, 4, 5])"
   ]
  },
  {
   "cell_type": "code",
   "execution_count": null,
   "metadata": {},
   "outputs": [],
   "source": [
    "dict(a=1, b=2, c=3) == {'a': 1, 'b': 2, 'c': 3}"
   ]
  },
  {
   "cell_type": "code",
   "execution_count": null,
   "metadata": {},
   "outputs": [],
   "source": [
    "[(idx, val) \n",
    " for (idx, val) \n",
    " in enumerate(['a', 'b', 'c'])\n",
    "]"
   ]
  },
  {
   "cell_type": "code",
   "execution_count": null,
   "metadata": {},
   "outputs": [],
   "source": [
    "list(                          # Filter returns a generator; use list() to make an array\n",
    "    filter(\n",
    "        lambda x: x > 2,       # Function or lambda expression that returns a boolean\n",
    "        range(1, 6)            # Iterable\n",
    "    )\n",
    ")                              # This, btw, is not Pythonic, you should use a conditional list comprehension instead"
   ]
  },
  {
   "cell_type": "code",
   "execution_count": null,
   "metadata": {},
   "outputs": [],
   "source": [
    "format(1234, '010.3f')        # It is rare you should use this; more often you woul use an f-string or str.format()"
   ]
  },
  {
   "cell_type": "code",
   "execution_count": null,
   "metadata": {},
   "outputs": [],
   "source": [
    "a_set = set([1, 2, 3])\n",
    "a_set == {1, 2, 3}"
   ]
  },
  {
   "cell_type": "code",
   "execution_count": null,
   "metadata": {},
   "outputs": [],
   "source": [
    "a_set.pop(), a_set"
   ]
  },
  {
   "cell_type": "code",
   "execution_count": null,
   "metadata": {},
   "outputs": [],
   "source": [
    "b_set = frozenset([1, 2, 3])\n",
    "b_set"
   ]
  },
  {
   "cell_type": "code",
   "execution_count": null,
   "metadata": {},
   "outputs": [],
   "source": [
    "try:\n",
    "    b_set.pop()\n",
    "except AttributeError as e:\n",
    "    print(repr(e))"
   ]
  },
  {
   "cell_type": "code",
   "execution_count": null,
   "metadata": {},
   "outputs": [],
   "source": [
    "iter([1, 2, 3, 4])"
   ]
  },
  {
   "cell_type": "code",
   "execution_count": null,
   "metadata": {},
   "outputs": [],
   "source": [
    "next(_)"
   ]
  },
  {
   "cell_type": "code",
   "execution_count": null,
   "metadata": {},
   "outputs": [],
   "source": [
    "next(__)"
   ]
  },
  {
   "cell_type": "code",
   "execution_count": null,
   "metadata": {},
   "outputs": [],
   "source": [
    "len(b_set)"
   ]
  },
  {
   "cell_type": "code",
   "execution_count": null,
   "metadata": {},
   "outputs": [],
   "source": [
    "list('abc')    # Turns an iterable into a list; a string is a literable with each character a member"
   ]
  },
  {
   "cell_type": "code",
   "execution_count": null,
   "metadata": {},
   "outputs": [],
   "source": [
    "list(\n",
    "    map(\n",
    "        lambda x: x**2,\n",
    "        [1, 2, 3, 4, 5]\n",
    "    )\n",
    ")         # Again, this is not pythonic"
   ]
  },
  {
   "cell_type": "code",
   "execution_count": null,
   "metadata": {},
   "outputs": [],
   "source": [
    "max('abc'), min('abc')"
   ]
  },
  {
   "cell_type": "code",
   "execution_count": null,
   "metadata": {},
   "outputs": [],
   "source": [
    "list(reversed('abc'))"
   ]
  },
  {
   "cell_type": "code",
   "execution_count": null,
   "metadata": {},
   "outputs": [],
   "source": [
    "[1, 2, 3, 4, 5][slice(2, 4)] == [1, 2, 3, 4, 5][2:4]"
   ]
  },
  {
   "cell_type": "code",
   "execution_count": null,
   "metadata": {},
   "outputs": [],
   "source": [
    "sorted(['c', 'b', 'a'])"
   ]
  },
  {
   "cell_type": "code",
   "execution_count": null,
   "metadata": {},
   "outputs": [],
   "source": [
    "list(zip([1, 2, 3], ['a', 'b', 'c'], [True, False, True]))"
   ]
  },
  {
   "cell_type": "markdown",
   "metadata": {},
   "source": [
    "**Casting and Type-Related**: `ascii()`, `chr()`, `float()`, `hash()`, `id()`, `int()`, `isinstance()`, `iter()`, `ord()`, `str()`, `type()`"
   ]
  },
  {
   "cell_type": "code",
   "execution_count": null,
   "metadata": {},
   "outputs": [],
   "source": [
    "ascii('Über')"
   ]
  },
  {
   "cell_type": "code",
   "execution_count": null,
   "metadata": {},
   "outputs": [],
   "source": [
    "chr(123)"
   ]
  },
  {
   "cell_type": "code",
   "execution_count": null,
   "metadata": {},
   "outputs": [],
   "source": [
    "float(500)"
   ]
  },
  {
   "cell_type": "code",
   "execution_count": null,
   "metadata": {},
   "outputs": [],
   "source": [
    "hash('This is a secret')"
   ]
  },
  {
   "cell_type": "code",
   "execution_count": null,
   "metadata": {},
   "outputs": [],
   "source": [
    "id('This is a secret')"
   ]
  },
  {
   "cell_type": "code",
   "execution_count": null,
   "metadata": {},
   "outputs": [],
   "source": [
    "isinstance('Is this a string?', str)"
   ]
  },
  {
   "cell_type": "code",
   "execution_count": null,
   "metadata": {},
   "outputs": [],
   "source": [
    "ord('Z')"
   ]
  },
  {
   "cell_type": "code",
   "execution_count": null,
   "metadata": {},
   "outputs": [],
   "source": [
    "str(123435)"
   ]
  },
  {
   "cell_type": "code",
   "execution_count": null,
   "metadata": {},
   "outputs": [],
   "source": [
    "type(help)"
   ]
  },
  {
   "cell_type": "markdown",
   "metadata": {},
   "source": [
    "**Class-related**: `callable()`, `classmethod()`, `delattr()`, `dir()`, `getattr()`, `hasattr()`, `issubclass()`, `object()`, `property()`, `setattr()`, `staticmethod()`, `super()`, `vars()`"
   ]
  },
  {
   "cell_type": "code",
   "execution_count": null,
   "metadata": {},
   "outputs": [],
   "source": [
    "class ExampleClass:\n",
    "    \n",
    "    def __init__(self, arg1, arg2=None):\n",
    "        self.arg1 = arg1\n",
    "        self.arg2 = arg2\n",
    "    \n",
    "    def method_1(self):\n",
    "        return self.arg1\n",
    "    \n",
    "    def method_2(self):\n",
    "        return self.arg2\n",
    "    \n",
    "    @classmethod\n",
    "    def class_method(cls):\n",
    "        return \"Hello! I'm a class method.\"\n",
    "    \n",
    "    @staticmethod\n",
    "    def static_method():\n",
    "        return \"Yo I'm a static method dawg\"\n",
    "    \n",
    "    \n",
    "\n",
    "example_object = ExampleClass('Hello!')"
   ]
  },
  {
   "cell_type": "code",
   "execution_count": null,
   "metadata": {},
   "outputs": [],
   "source": [
    "callable(example_object)"
   ]
  },
  {
   "cell_type": "code",
   "execution_count": null,
   "metadata": {},
   "outputs": [],
   "source": [
    "callable(example_object.method_1)"
   ]
  },
  {
   "cell_type": "code",
   "execution_count": null,
   "metadata": {},
   "outputs": [],
   "source": [
    "example_object.method_1()"
   ]
  },
  {
   "cell_type": "code",
   "execution_count": null,
   "metadata": {},
   "outputs": [],
   "source": [
    "ExampleClass.class_method()"
   ]
  },
  {
   "cell_type": "code",
   "execution_count": null,
   "metadata": {},
   "outputs": [],
   "source": [
    "ExampleClass.static_method()"
   ]
  },
  {
   "cell_type": "code",
   "execution_count": null,
   "metadata": {},
   "outputs": [],
   "source": [
    "dir(example_object)"
   ]
  },
  {
   "cell_type": "code",
   "execution_count": null,
   "metadata": {},
   "outputs": [],
   "source": [
    "example_object.arg1"
   ]
  },
  {
   "cell_type": "code",
   "execution_count": null,
   "metadata": {},
   "outputs": [],
   "source": [
    "delattr(example_object, 'arg1')"
   ]
  },
  {
   "cell_type": "code",
   "execution_count": null,
   "metadata": {},
   "outputs": [],
   "source": [
    "try:\n",
    "    example_object.arg1\n",
    "except AttributeError as e:\n",
    "    print(repr(e))"
   ]
  },
  {
   "cell_type": "code",
   "execution_count": null,
   "metadata": {},
   "outputs": [],
   "source": [
    "hasattr(example_object, 'arg1')"
   ]
  },
  {
   "cell_type": "code",
   "execution_count": null,
   "metadata": {},
   "outputs": [],
   "source": [
    "hasattr(example_object, 'arg2')"
   ]
  },
  {
   "cell_type": "code",
   "execution_count": null,
   "metadata": {},
   "outputs": [],
   "source": [
    "setattr(example_object, 'arg1', 'Hello!')\n",
    "example_object.arg1"
   ]
  },
  {
   "cell_type": "code",
   "execution_count": null,
   "metadata": {},
   "outputs": [],
   "source": [
    "example_object.arg3 = 'Hello again!'\n",
    "example_object.arg3"
   ]
  },
  {
   "cell_type": "code",
   "execution_count": null,
   "metadata": {},
   "outputs": [],
   "source": [
    "object()"
   ]
  },
  {
   "cell_type": "code",
   "execution_count": null,
   "metadata": {},
   "outputs": [],
   "source": [
    "vars(example_object)"
   ]
  },
  {
   "cell_type": "code",
   "execution_count": null,
   "metadata": {},
   "outputs": [],
   "source": [
    "class ExampleSubClass(ExampleClass):\n",
    "    \n",
    "    def __init__(self, newarg=None):\n",
    "        super().__init__(newarg)\n",
    "        self.newarg = newarg\n",
    "        self.incremented = self.newarg + 1\n",
    "\n",
    "subclass_object = ExampleSubClass(100)"
   ]
  },
  {
   "cell_type": "code",
   "execution_count": null,
   "metadata": {},
   "outputs": [],
   "source": [
    "issubclass(ExampleSubClass, ExampleClass)"
   ]
  },
  {
   "cell_type": "code",
   "execution_count": null,
   "metadata": {},
   "outputs": [],
   "source": [
    "subclass_object.newarg, subclass_object.incremented"
   ]
  },
  {
   "cell_type": "code",
   "execution_count": null,
   "metadata": {},
   "outputs": [],
   "source": [
    "subclass_object.newarg = 200\n",
    "\n",
    "subclass_object.newarg, subclass_object.incremented"
   ]
  },
  {
   "cell_type": "code",
   "execution_count": null,
   "metadata": {},
   "outputs": [],
   "source": [
    "class ExampleProperty(ExampleClass):\n",
    "    \n",
    "    def __init__(self, newarg=None):\n",
    "        super().__init__(newarg)\n",
    "        self.newarg = newarg\n",
    "        self.increment = self.newarg + 1\n",
    "    \n",
    "    @property\n",
    "    def newarg(self):\n",
    "        return self._newarg\n",
    "    \n",
    "    @newarg.setter\n",
    "    def newarg(self, value):\n",
    "        self._newarg = value\n",
    "        self.increment = self._newarg + 1\n",
    "\n",
    "subclass_obj_prop = ExampleProperty(100)"
   ]
  },
  {
   "cell_type": "code",
   "execution_count": null,
   "metadata": {},
   "outputs": [],
   "source": [
    "subclass_obj_prop.newarg, subclass_obj_prop.increment"
   ]
  },
  {
   "cell_type": "code",
   "execution_count": null,
   "metadata": {},
   "outputs": [],
   "source": [
    "subclass_obj_prop.newarg = 200\n",
    "\n",
    "subclass_obj_prop.newarg, subclass_obj_prop.increment"
   ]
  },
  {
   "cell_type": "markdown",
   "metadata": {},
   "source": [
    "**Miscellaneous Functions**: `compile()`, `eval()`, `exec()`, `globals()`, `help()`, `input()`, `locals()`, `memoryview()`, `open()`, `print()`, `repr()`"
   ]
  },
  {
   "cell_type": "code",
   "execution_count": null,
   "metadata": {},
   "outputs": [],
   "source": [
    "eval('11234 + 8954893')"
   ]
  },
  {
   "cell_type": "code",
   "execution_count": null,
   "metadata": {},
   "outputs": [],
   "source": [
    "exec('print(12335)')"
   ]
  },
  {
   "cell_type": "code",
   "execution_count": null,
   "metadata": {},
   "outputs": [],
   "source": [
    "module = compile(\n",
    "\"\"\"x = 10\n",
    "if x > 0:\n",
    "    print(\"It's positive!\")\n",
    "\"\"\",\n",
    "    './temp.txt',\n",
    "    mode='exec'\n",
    ")"
   ]
  },
  {
   "cell_type": "code",
   "execution_count": null,
   "metadata": {},
   "outputs": [],
   "source": [
    "exec(module)"
   ]
  },
  {
   "cell_type": "code",
   "execution_count": null,
   "metadata": {},
   "outputs": [],
   "source": [
    "globals()"
   ]
  },
  {
   "cell_type": "code",
   "execution_count": null,
   "metadata": {},
   "outputs": [],
   "source": [
    "def localscope():\n",
    "    x = 1\n",
    "    print(locals())\n",
    "\n",
    "localscope()"
   ]
  },
  {
   "cell_type": "code",
   "execution_count": null,
   "metadata": {},
   "outputs": [],
   "source": [
    "locals()"
   ]
  },
  {
   "cell_type": "code",
   "execution_count": null,
   "metadata": {},
   "outputs": [],
   "source": [
    "memoryview(bytes(123))"
   ]
  },
  {
   "cell_type": "code",
   "execution_count": null,
   "metadata": {},
   "outputs": [],
   "source": [
    "repr(example_object)"
   ]
  },
  {
   "cell_type": "code",
   "execution_count": null,
   "metadata": {},
   "outputs": [],
   "source": [
    "class ExampleClass:\n",
    "    \n",
    "    def __init__(self, arg1, arg2=None):\n",
    "        self.arg1 = arg1\n",
    "        self.arg2 = arg2\n",
    "    \n",
    "    def method_1(self):\n",
    "        return self.arg1\n",
    "    \n",
    "    def method_2(self):\n",
    "        return self.arg2\n",
    "    \n",
    "    @classmethod\n",
    "    def class_method(cls):\n",
    "        return \"Hello! I'm a class method.\"\n",
    "    \n",
    "    @staticmethod\n",
    "    def static_method():\n",
    "        return \"Yo I'm a static method dawg\"\n",
    "    \n",
    "    def __repr__(self):\n",
    "        return f\"<ExampleClass object {self.arg1}>\"\n",
    "    \n",
    "    \n",
    "\n",
    "example_object = ExampleClass('Hello!')"
   ]
  },
  {
   "cell_type": "code",
   "execution_count": null,
   "metadata": {},
   "outputs": [],
   "source": [
    "repr(example_object)"
   ]
  },
  {
   "cell_type": "markdown",
   "metadata": {},
   "source": [
    "### Embrace the Standard Library\n",
    "\n",
    "There are too many modules in the standard library to completely cover them here, but there are several that we really should know as data scientists:\n",
    "\n",
    "- `datetime`\n",
    "- `calendar`\n",
    "- `collections`\n",
    "- `heapq`\n",
    "- `bisect`\n",
    "- `pprint`\n",
    "- `fractions`\n",
    "- `random`\n",
    "- `statistics`\n",
    "- `itertools`\n",
    "- `functools`"
   ]
  },
  {
   "cell_type": "code",
   "execution_count": null,
   "metadata": {},
   "outputs": [],
   "source": [
    "import collections\n",
    "\n",
    "dir(collections)"
   ]
  },
  {
   "cell_type": "code",
   "execution_count": null,
   "metadata": {},
   "outputs": [],
   "source": [
    "ExampleNT = collections.namedtuple('nums', ['x', 'y', 'z'])"
   ]
  },
  {
   "cell_type": "code",
   "execution_count": null,
   "metadata": {},
   "outputs": [],
   "source": [
    "example_nt = ExampleNT(x=100, y=200, z=300)\n",
    "\n",
    "example_nt"
   ]
  },
  {
   "cell_type": "code",
   "execution_count": null,
   "metadata": {},
   "outputs": [],
   "source": [
    "example_nt.x"
   ]
  },
  {
   "cell_type": "code",
   "execution_count": null,
   "metadata": {},
   "outputs": [],
   "source": [
    "example_nt[0]"
   ]
  },
  {
   "cell_type": "code",
   "execution_count": null,
   "metadata": {},
   "outputs": [],
   "source": [
    "try:\n",
    "    example_nt['x']\n",
    "except TypeError as e:\n",
    "    print(repr(e))"
   ]
  },
  {
   "cell_type": "code",
   "execution_count": null,
   "metadata": {},
   "outputs": [],
   "source": [
    "randomlist = [randint(1, 1001) for _ in range(500_000)]"
   ]
  },
  {
   "cell_type": "code",
   "execution_count": null,
   "metadata": {},
   "outputs": [],
   "source": [
    "while len(randomlist) > 0:\n",
    "    randomlist.pop(0)\n",
    "\n",
    "# Last executed at 2020-11-19 12:34:17 in 2m 43.98s"
   ]
  },
  {
   "cell_type": "code",
   "execution_count": null,
   "metadata": {},
   "outputs": [],
   "source": [
    "from collections import deque\n",
    "\n",
    "randomdeque = deque()\n",
    "[randomdeque.append(randint(1, 1001)) for _ in range(500_000)];"
   ]
  },
  {
   "cell_type": "code",
   "execution_count": null,
   "metadata": {},
   "outputs": [],
   "source": [
    "while len(randomdeque) > 0:\n",
    "    randomdeque.popleft()\n",
    "\n",
    "# Last executed at 2020-11-19 12:42:33 in 178ms"
   ]
  },
  {
   "cell_type": "code",
   "execution_count": null,
   "metadata": {},
   "outputs": [],
   "source": [
    "from collections import ChainMap\n",
    "\n",
    "dict1 = {'a': 1, 'b': 2, 'c': 3}\n",
    "dict2 = {'e': 4, 'f': 5, 'g': 6}"
   ]
  },
  {
   "cell_type": "code",
   "execution_count": null,
   "metadata": {},
   "outputs": [],
   "source": [
    "big_dict = ChainMap(dict1, dict2)\n",
    "\n",
    "big_dict"
   ]
  },
  {
   "cell_type": "code",
   "execution_count": null,
   "metadata": {},
   "outputs": [],
   "source": [
    "big_dict['h'] = 7\n",
    "\n",
    "big_dict"
   ]
  },
  {
   "cell_type": "code",
   "execution_count": null,
   "metadata": {},
   "outputs": [],
   "source": [
    "big_dict['e']"
   ]
  },
  {
   "cell_type": "code",
   "execution_count": null,
   "metadata": {},
   "outputs": [],
   "source": [
    "from collections import Counter\n",
    "\n",
    "randomlist = [randint(1, 101) for _ in range(100)]\n",
    "Counter(randomlist)"
   ]
  },
  {
   "cell_type": "code",
   "execution_count": null,
   "metadata": {},
   "outputs": [],
   "source": [
    "from collections import defaultdict\n",
    "\n",
    "normal_dict = dict()\n",
    "super_dict = defaultdict(int)"
   ]
  },
  {
   "cell_type": "code",
   "execution_count": null,
   "metadata": {},
   "outputs": [],
   "source": [
    "try:\n",
    "    normal_dict['test'] += 1\n",
    "except KeyError as e:\n",
    "    print(repr(e))"
   ]
  },
  {
   "cell_type": "code",
   "execution_count": null,
   "metadata": {},
   "outputs": [],
   "source": [
    "super_dict['test'] += 1"
   ]
  },
  {
   "cell_type": "code",
   "execution_count": null,
   "metadata": {},
   "outputs": [],
   "source": [
    "super_dict['test']"
   ]
  }
 ],
 "metadata": {
  "kernelspec": {
   "display_name": "Python 3",
   "language": "python",
   "name": "python3"
  },
  "language_info": {
   "codemirror_mode": {
    "name": "ipython",
    "version": 3
   },
   "file_extension": ".py",
   "mimetype": "text/x-python",
   "name": "python",
   "nbconvert_exporter": "python",
   "pygments_lexer": "ipython3",
   "version": "3.8.5"
  }
 },
 "nbformat": 4,
 "nbformat_minor": 4
}
